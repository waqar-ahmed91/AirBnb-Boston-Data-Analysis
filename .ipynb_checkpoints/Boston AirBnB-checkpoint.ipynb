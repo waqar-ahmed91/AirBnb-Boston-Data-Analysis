{
 "cells": [
  {
   "cell_type": "markdown",
   "metadata": {},
   "source": [
    "![title](Airbnb-Logo.png)"
   ]
  },
  {
   "cell_type": "markdown",
   "metadata": {},
   "source": [
    "# Importing Packages"
   ]
  },
  {
   "cell_type": "code",
   "execution_count": 1,
   "metadata": {},
   "outputs": [],
   "source": [
    "import pandas as pd\n",
    "import numpy as np\n",
    "import matplotlib.pyplot as plt\n",
    "import seaborn as sns\n",
    "%matplotlib inline"
   ]
  },
  {
   "cell_type": "markdown",
   "metadata": {},
   "source": [
    "# Business Requirements\n",
    "1. What type of Cancellation Policy Host Prefer in terms of AirBnb Booking?\n",
    "2. Which areas are most and least Expenisve in Boston?\n",
    "3. What are the prices of Room types and Property types in Boston?\n",
    "4. In which Property type People stay Maximum and Minimum?\n",
    "5. Which types of Property requires Minimum and Maximum Securtiy Deposit fee?"
   ]
  },
  {
   "cell_type": "markdown",
   "metadata": {},
   "source": [
    "# Data Understanding"
   ]
  },
  {
   "cell_type": "code",
   "execution_count": 2,
   "metadata": {},
   "outputs": [],
   "source": [
    "listing = pd.read_csv('./data/listings.csv', sep=',')\n",
    "calender = pd.read_csv('./data/calendar.csv', sep=',')\n",
    "reviews = pd.read_csv('./data/reviews.csv', sep=',')"
   ]
  },
  {
   "cell_type": "code",
   "execution_count": 3,
   "metadata": {},
   "outputs": [
    {
     "data": {
      "text/html": [
       "<div>\n",
       "<style scoped>\n",
       "    .dataframe tbody tr th:only-of-type {\n",
       "        vertical-align: middle;\n",
       "    }\n",
       "\n",
       "    .dataframe tbody tr th {\n",
       "        vertical-align: top;\n",
       "    }\n",
       "\n",
       "    .dataframe thead th {\n",
       "        text-align: right;\n",
       "    }\n",
       "</style>\n",
       "<table border=\"1\" class=\"dataframe\">\n",
       "  <thead>\n",
       "    <tr style=\"text-align: right;\">\n",
       "      <th></th>\n",
       "      <th>id</th>\n",
       "      <th>listing_url</th>\n",
       "      <th>scrape_id</th>\n",
       "      <th>last_scraped</th>\n",
       "      <th>name</th>\n",
       "      <th>summary</th>\n",
       "      <th>space</th>\n",
       "      <th>description</th>\n",
       "      <th>experiences_offered</th>\n",
       "      <th>neighborhood_overview</th>\n",
       "      <th>...</th>\n",
       "      <th>review_scores_value</th>\n",
       "      <th>requires_license</th>\n",
       "      <th>license</th>\n",
       "      <th>jurisdiction_names</th>\n",
       "      <th>instant_bookable</th>\n",
       "      <th>cancellation_policy</th>\n",
       "      <th>require_guest_profile_picture</th>\n",
       "      <th>require_guest_phone_verification</th>\n",
       "      <th>calculated_host_listings_count</th>\n",
       "      <th>reviews_per_month</th>\n",
       "    </tr>\n",
       "  </thead>\n",
       "  <tbody>\n",
       "    <tr>\n",
       "      <th>0</th>\n",
       "      <td>12147973</td>\n",
       "      <td>https://www.airbnb.com/rooms/12147973</td>\n",
       "      <td>20160906204935</td>\n",
       "      <td>2016-09-07</td>\n",
       "      <td>Sunny Bungalow in the City</td>\n",
       "      <td>Cozy, sunny, family home.  Master bedroom high...</td>\n",
       "      <td>The house has an open and cozy feel at the sam...</td>\n",
       "      <td>Cozy, sunny, family home.  Master bedroom high...</td>\n",
       "      <td>none</td>\n",
       "      <td>Roslindale is quiet, convenient and friendly. ...</td>\n",
       "      <td>...</td>\n",
       "      <td>NaN</td>\n",
       "      <td>f</td>\n",
       "      <td>NaN</td>\n",
       "      <td>NaN</td>\n",
       "      <td>f</td>\n",
       "      <td>moderate</td>\n",
       "      <td>f</td>\n",
       "      <td>f</td>\n",
       "      <td>1</td>\n",
       "      <td>NaN</td>\n",
       "    </tr>\n",
       "    <tr>\n",
       "      <th>1</th>\n",
       "      <td>3075044</td>\n",
       "      <td>https://www.airbnb.com/rooms/3075044</td>\n",
       "      <td>20160906204935</td>\n",
       "      <td>2016-09-07</td>\n",
       "      <td>Charming room in pet friendly apt</td>\n",
       "      <td>Charming and quiet room in a second floor 1910...</td>\n",
       "      <td>Small but cozy and quite room with a full size...</td>\n",
       "      <td>Charming and quiet room in a second floor 1910...</td>\n",
       "      <td>none</td>\n",
       "      <td>The room is in Roslindale, a diverse and prima...</td>\n",
       "      <td>...</td>\n",
       "      <td>9.0</td>\n",
       "      <td>f</td>\n",
       "      <td>NaN</td>\n",
       "      <td>NaN</td>\n",
       "      <td>t</td>\n",
       "      <td>moderate</td>\n",
       "      <td>f</td>\n",
       "      <td>f</td>\n",
       "      <td>1</td>\n",
       "      <td>1.30</td>\n",
       "    </tr>\n",
       "    <tr>\n",
       "      <th>2</th>\n",
       "      <td>6976</td>\n",
       "      <td>https://www.airbnb.com/rooms/6976</td>\n",
       "      <td>20160906204935</td>\n",
       "      <td>2016-09-07</td>\n",
       "      <td>Mexican Folk Art Haven in Boston</td>\n",
       "      <td>Come stay with a friendly, middle-aged guy in ...</td>\n",
       "      <td>Come stay with a friendly, middle-aged guy in ...</td>\n",
       "      <td>Come stay with a friendly, middle-aged guy in ...</td>\n",
       "      <td>none</td>\n",
       "      <td>The LOCATION: Roslindale is a safe and diverse...</td>\n",
       "      <td>...</td>\n",
       "      <td>10.0</td>\n",
       "      <td>f</td>\n",
       "      <td>NaN</td>\n",
       "      <td>NaN</td>\n",
       "      <td>f</td>\n",
       "      <td>moderate</td>\n",
       "      <td>t</td>\n",
       "      <td>f</td>\n",
       "      <td>1</td>\n",
       "      <td>0.47</td>\n",
       "    </tr>\n",
       "    <tr>\n",
       "      <th>3</th>\n",
       "      <td>1436513</td>\n",
       "      <td>https://www.airbnb.com/rooms/1436513</td>\n",
       "      <td>20160906204935</td>\n",
       "      <td>2016-09-07</td>\n",
       "      <td>Spacious Sunny Bedroom Suite in Historic Home</td>\n",
       "      <td>Come experience the comforts of home away from...</td>\n",
       "      <td>Most places you find in Boston are small howev...</td>\n",
       "      <td>Come experience the comforts of home away from...</td>\n",
       "      <td>none</td>\n",
       "      <td>Roslindale is a lovely little neighborhood loc...</td>\n",
       "      <td>...</td>\n",
       "      <td>10.0</td>\n",
       "      <td>f</td>\n",
       "      <td>NaN</td>\n",
       "      <td>NaN</td>\n",
       "      <td>f</td>\n",
       "      <td>moderate</td>\n",
       "      <td>f</td>\n",
       "      <td>f</td>\n",
       "      <td>1</td>\n",
       "      <td>1.00</td>\n",
       "    </tr>\n",
       "    <tr>\n",
       "      <th>4</th>\n",
       "      <td>7651065</td>\n",
       "      <td>https://www.airbnb.com/rooms/7651065</td>\n",
       "      <td>20160906204935</td>\n",
       "      <td>2016-09-07</td>\n",
       "      <td>Come Home to Boston</td>\n",
       "      <td>My comfy, clean and relaxing home is one block...</td>\n",
       "      <td>Clean, attractive, private room, one block fro...</td>\n",
       "      <td>My comfy, clean and relaxing home is one block...</td>\n",
       "      <td>none</td>\n",
       "      <td>I love the proximity to downtown, the neighbor...</td>\n",
       "      <td>...</td>\n",
       "      <td>10.0</td>\n",
       "      <td>f</td>\n",
       "      <td>NaN</td>\n",
       "      <td>NaN</td>\n",
       "      <td>f</td>\n",
       "      <td>flexible</td>\n",
       "      <td>f</td>\n",
       "      <td>f</td>\n",
       "      <td>1</td>\n",
       "      <td>2.25</td>\n",
       "    </tr>\n",
       "  </tbody>\n",
       "</table>\n",
       "<p>5 rows × 95 columns</p>\n",
       "</div>"
      ],
      "text/plain": [
       "         id                            listing_url       scrape_id  \\\n",
       "0  12147973  https://www.airbnb.com/rooms/12147973  20160906204935   \n",
       "1   3075044   https://www.airbnb.com/rooms/3075044  20160906204935   \n",
       "2      6976      https://www.airbnb.com/rooms/6976  20160906204935   \n",
       "3   1436513   https://www.airbnb.com/rooms/1436513  20160906204935   \n",
       "4   7651065   https://www.airbnb.com/rooms/7651065  20160906204935   \n",
       "\n",
       "  last_scraped                                           name  \\\n",
       "0   2016-09-07                     Sunny Bungalow in the City   \n",
       "1   2016-09-07              Charming room in pet friendly apt   \n",
       "2   2016-09-07               Mexican Folk Art Haven in Boston   \n",
       "3   2016-09-07  Spacious Sunny Bedroom Suite in Historic Home   \n",
       "4   2016-09-07                            Come Home to Boston   \n",
       "\n",
       "                                             summary  \\\n",
       "0  Cozy, sunny, family home.  Master bedroom high...   \n",
       "1  Charming and quiet room in a second floor 1910...   \n",
       "2  Come stay with a friendly, middle-aged guy in ...   \n",
       "3  Come experience the comforts of home away from...   \n",
       "4  My comfy, clean and relaxing home is one block...   \n",
       "\n",
       "                                               space  \\\n",
       "0  The house has an open and cozy feel at the sam...   \n",
       "1  Small but cozy and quite room with a full size...   \n",
       "2  Come stay with a friendly, middle-aged guy in ...   \n",
       "3  Most places you find in Boston are small howev...   \n",
       "4  Clean, attractive, private room, one block fro...   \n",
       "\n",
       "                                         description experiences_offered  \\\n",
       "0  Cozy, sunny, family home.  Master bedroom high...                none   \n",
       "1  Charming and quiet room in a second floor 1910...                none   \n",
       "2  Come stay with a friendly, middle-aged guy in ...                none   \n",
       "3  Come experience the comforts of home away from...                none   \n",
       "4  My comfy, clean and relaxing home is one block...                none   \n",
       "\n",
       "                               neighborhood_overview  ... review_scores_value  \\\n",
       "0  Roslindale is quiet, convenient and friendly. ...  ...                 NaN   \n",
       "1  The room is in Roslindale, a diverse and prima...  ...                 9.0   \n",
       "2  The LOCATION: Roslindale is a safe and diverse...  ...                10.0   \n",
       "3  Roslindale is a lovely little neighborhood loc...  ...                10.0   \n",
       "4  I love the proximity to downtown, the neighbor...  ...                10.0   \n",
       "\n",
       "  requires_license license jurisdiction_names instant_bookable  \\\n",
       "0                f     NaN                NaN                f   \n",
       "1                f     NaN                NaN                t   \n",
       "2                f     NaN                NaN                f   \n",
       "3                f     NaN                NaN                f   \n",
       "4                f     NaN                NaN                f   \n",
       "\n",
       "  cancellation_policy require_guest_profile_picture  \\\n",
       "0            moderate                             f   \n",
       "1            moderate                             f   \n",
       "2            moderate                             t   \n",
       "3            moderate                             f   \n",
       "4            flexible                             f   \n",
       "\n",
       "  require_guest_phone_verification calculated_host_listings_count  \\\n",
       "0                                f                              1   \n",
       "1                                f                              1   \n",
       "2                                f                              1   \n",
       "3                                f                              1   \n",
       "4                                f                              1   \n",
       "\n",
       "   reviews_per_month  \n",
       "0                NaN  \n",
       "1               1.30  \n",
       "2               0.47  \n",
       "3               1.00  \n",
       "4               2.25  \n",
       "\n",
       "[5 rows x 95 columns]"
      ]
     },
     "execution_count": 3,
     "metadata": {},
     "output_type": "execute_result"
    }
   ],
   "source": [
    "listing.head()"
   ]
  },
  {
   "cell_type": "code",
   "execution_count": 4,
   "metadata": {},
   "outputs": [
    {
     "data": {
      "text/html": [
       "<div>\n",
       "<style scoped>\n",
       "    .dataframe tbody tr th:only-of-type {\n",
       "        vertical-align: middle;\n",
       "    }\n",
       "\n",
       "    .dataframe tbody tr th {\n",
       "        vertical-align: top;\n",
       "    }\n",
       "\n",
       "    .dataframe thead th {\n",
       "        text-align: right;\n",
       "    }\n",
       "</style>\n",
       "<table border=\"1\" class=\"dataframe\">\n",
       "  <thead>\n",
       "    <tr style=\"text-align: right;\">\n",
       "      <th></th>\n",
       "      <th>listing_id</th>\n",
       "      <th>date</th>\n",
       "      <th>available</th>\n",
       "      <th>price</th>\n",
       "    </tr>\n",
       "  </thead>\n",
       "  <tbody>\n",
       "    <tr>\n",
       "      <th>0</th>\n",
       "      <td>12147973</td>\n",
       "      <td>2017-09-05</td>\n",
       "      <td>f</td>\n",
       "      <td>NaN</td>\n",
       "    </tr>\n",
       "    <tr>\n",
       "      <th>1</th>\n",
       "      <td>12147973</td>\n",
       "      <td>2017-09-04</td>\n",
       "      <td>f</td>\n",
       "      <td>NaN</td>\n",
       "    </tr>\n",
       "    <tr>\n",
       "      <th>2</th>\n",
       "      <td>12147973</td>\n",
       "      <td>2017-09-03</td>\n",
       "      <td>f</td>\n",
       "      <td>NaN</td>\n",
       "    </tr>\n",
       "    <tr>\n",
       "      <th>3</th>\n",
       "      <td>12147973</td>\n",
       "      <td>2017-09-02</td>\n",
       "      <td>f</td>\n",
       "      <td>NaN</td>\n",
       "    </tr>\n",
       "    <tr>\n",
       "      <th>4</th>\n",
       "      <td>12147973</td>\n",
       "      <td>2017-09-01</td>\n",
       "      <td>f</td>\n",
       "      <td>NaN</td>\n",
       "    </tr>\n",
       "  </tbody>\n",
       "</table>\n",
       "</div>"
      ],
      "text/plain": [
       "   listing_id        date available price\n",
       "0    12147973  2017-09-05         f   NaN\n",
       "1    12147973  2017-09-04         f   NaN\n",
       "2    12147973  2017-09-03         f   NaN\n",
       "3    12147973  2017-09-02         f   NaN\n",
       "4    12147973  2017-09-01         f   NaN"
      ]
     },
     "execution_count": 4,
     "metadata": {},
     "output_type": "execute_result"
    }
   ],
   "source": [
    "calender.head()"
   ]
  },
  {
   "cell_type": "code",
   "execution_count": 5,
   "metadata": {},
   "outputs": [
    {
     "data": {
      "text/html": [
       "<div>\n",
       "<style scoped>\n",
       "    .dataframe tbody tr th:only-of-type {\n",
       "        vertical-align: middle;\n",
       "    }\n",
       "\n",
       "    .dataframe tbody tr th {\n",
       "        vertical-align: top;\n",
       "    }\n",
       "\n",
       "    .dataframe thead th {\n",
       "        text-align: right;\n",
       "    }\n",
       "</style>\n",
       "<table border=\"1\" class=\"dataframe\">\n",
       "  <thead>\n",
       "    <tr style=\"text-align: right;\">\n",
       "      <th></th>\n",
       "      <th>listing_id</th>\n",
       "      <th>date</th>\n",
       "      <th>available</th>\n",
       "      <th>price</th>\n",
       "    </tr>\n",
       "  </thead>\n",
       "  <tbody>\n",
       "    <tr>\n",
       "      <th>1308885</th>\n",
       "      <td>14504422</td>\n",
       "      <td>2016-09-10</td>\n",
       "      <td>f</td>\n",
       "      <td>NaN</td>\n",
       "    </tr>\n",
       "    <tr>\n",
       "      <th>1308886</th>\n",
       "      <td>14504422</td>\n",
       "      <td>2016-09-09</td>\n",
       "      <td>f</td>\n",
       "      <td>NaN</td>\n",
       "    </tr>\n",
       "    <tr>\n",
       "      <th>1308887</th>\n",
       "      <td>14504422</td>\n",
       "      <td>2016-09-08</td>\n",
       "      <td>f</td>\n",
       "      <td>NaN</td>\n",
       "    </tr>\n",
       "    <tr>\n",
       "      <th>1308888</th>\n",
       "      <td>14504422</td>\n",
       "      <td>2016-09-07</td>\n",
       "      <td>f</td>\n",
       "      <td>NaN</td>\n",
       "    </tr>\n",
       "    <tr>\n",
       "      <th>1308889</th>\n",
       "      <td>14504422</td>\n",
       "      <td>2016-09-06</td>\n",
       "      <td>f</td>\n",
       "      <td>NaN</td>\n",
       "    </tr>\n",
       "  </tbody>\n",
       "</table>\n",
       "</div>"
      ],
      "text/plain": [
       "         listing_id        date available price\n",
       "1308885    14504422  2016-09-10         f   NaN\n",
       "1308886    14504422  2016-09-09         f   NaN\n",
       "1308887    14504422  2016-09-08         f   NaN\n",
       "1308888    14504422  2016-09-07         f   NaN\n",
       "1308889    14504422  2016-09-06         f   NaN"
      ]
     },
     "execution_count": 5,
     "metadata": {},
     "output_type": "execute_result"
    }
   ],
   "source": [
    "calender.tail()"
   ]
  },
  {
   "cell_type": "code",
   "execution_count": 6,
   "metadata": {},
   "outputs": [
    {
     "data": {
      "text/plain": [
       "(1308890, 4)"
      ]
     },
     "execution_count": 6,
     "metadata": {},
     "output_type": "execute_result"
    }
   ],
   "source": [
    "calender.shape"
   ]
  },
  {
   "cell_type": "code",
   "execution_count": 7,
   "metadata": {},
   "outputs": [
    {
     "data": {
      "text/plain": [
       "listing_id         0\n",
       "date               0\n",
       "available          0\n",
       "price         665853\n",
       "dtype: int64"
      ]
     },
     "execution_count": 7,
     "metadata": {},
     "output_type": "execute_result"
    }
   ],
   "source": [
    "calender.isnull().sum()"
   ]
  },
  {
   "cell_type": "code",
   "execution_count": 8,
   "metadata": {},
   "outputs": [
    {
     "data": {
      "text/plain": [
       "(3585, 95)"
      ]
     },
     "execution_count": 8,
     "metadata": {},
     "output_type": "execute_result"
    }
   ],
   "source": [
    "listing.shape"
   ]
  },
  {
   "cell_type": "code",
   "execution_count": 9,
   "metadata": {},
   "outputs": [
    {
     "data": {
      "text/html": [
       "<div>\n",
       "<style scoped>\n",
       "    .dataframe tbody tr th:only-of-type {\n",
       "        vertical-align: middle;\n",
       "    }\n",
       "\n",
       "    .dataframe tbody tr th {\n",
       "        vertical-align: top;\n",
       "    }\n",
       "\n",
       "    .dataframe thead th {\n",
       "        text-align: right;\n",
       "    }\n",
       "</style>\n",
       "<table border=\"1\" class=\"dataframe\">\n",
       "  <thead>\n",
       "    <tr style=\"text-align: right;\">\n",
       "      <th></th>\n",
       "      <th>listing_id</th>\n",
       "      <th>id</th>\n",
       "      <th>date</th>\n",
       "      <th>reviewer_id</th>\n",
       "      <th>reviewer_name</th>\n",
       "      <th>comments</th>\n",
       "    </tr>\n",
       "  </thead>\n",
       "  <tbody>\n",
       "    <tr>\n",
       "      <th>0</th>\n",
       "      <td>1178162</td>\n",
       "      <td>4724140</td>\n",
       "      <td>2013-05-21</td>\n",
       "      <td>4298113</td>\n",
       "      <td>Olivier</td>\n",
       "      <td>My stay at islam's place was really cool! Good...</td>\n",
       "    </tr>\n",
       "    <tr>\n",
       "      <th>1</th>\n",
       "      <td>1178162</td>\n",
       "      <td>4869189</td>\n",
       "      <td>2013-05-29</td>\n",
       "      <td>6452964</td>\n",
       "      <td>Charlotte</td>\n",
       "      <td>Great location for both airport and city - gre...</td>\n",
       "    </tr>\n",
       "    <tr>\n",
       "      <th>2</th>\n",
       "      <td>1178162</td>\n",
       "      <td>5003196</td>\n",
       "      <td>2013-06-06</td>\n",
       "      <td>6449554</td>\n",
       "      <td>Sebastian</td>\n",
       "      <td>We really enjoyed our stay at Islams house. Fr...</td>\n",
       "    </tr>\n",
       "    <tr>\n",
       "      <th>3</th>\n",
       "      <td>1178162</td>\n",
       "      <td>5150351</td>\n",
       "      <td>2013-06-15</td>\n",
       "      <td>2215611</td>\n",
       "      <td>Marine</td>\n",
       "      <td>The room was nice and clean and so were the co...</td>\n",
       "    </tr>\n",
       "    <tr>\n",
       "      <th>4</th>\n",
       "      <td>1178162</td>\n",
       "      <td>5171140</td>\n",
       "      <td>2013-06-16</td>\n",
       "      <td>6848427</td>\n",
       "      <td>Andrew</td>\n",
       "      <td>Great location. Just 5 mins walk from the Airp...</td>\n",
       "    </tr>\n",
       "  </tbody>\n",
       "</table>\n",
       "</div>"
      ],
      "text/plain": [
       "   listing_id       id        date  reviewer_id reviewer_name  \\\n",
       "0     1178162  4724140  2013-05-21      4298113       Olivier   \n",
       "1     1178162  4869189  2013-05-29      6452964     Charlotte   \n",
       "2     1178162  5003196  2013-06-06      6449554     Sebastian   \n",
       "3     1178162  5150351  2013-06-15      2215611        Marine   \n",
       "4     1178162  5171140  2013-06-16      6848427        Andrew   \n",
       "\n",
       "                                            comments  \n",
       "0  My stay at islam's place was really cool! Good...  \n",
       "1  Great location for both airport and city - gre...  \n",
       "2  We really enjoyed our stay at Islams house. Fr...  \n",
       "3  The room was nice and clean and so were the co...  \n",
       "4  Great location. Just 5 mins walk from the Airp...  "
      ]
     },
     "execution_count": 9,
     "metadata": {},
     "output_type": "execute_result"
    }
   ],
   "source": [
    "reviews.head()"
   ]
  },
  {
   "cell_type": "code",
   "execution_count": 10,
   "metadata": {},
   "outputs": [
    {
     "data": {
      "text/plain": [
       "(68275, 6)"
      ]
     },
     "execution_count": 10,
     "metadata": {},
     "output_type": "execute_result"
    }
   ],
   "source": [
    "reviews.shape"
   ]
  },
  {
   "cell_type": "code",
   "execution_count": 11,
   "metadata": {},
   "outputs": [
    {
     "data": {
      "text/plain": [
       "id                                    int64\n",
       "listing_url                          object\n",
       "scrape_id                             int64\n",
       "last_scraped                         object\n",
       "name                                 object\n",
       "                                     ...   \n",
       "cancellation_policy                  object\n",
       "require_guest_profile_picture        object\n",
       "require_guest_phone_verification     object\n",
       "calculated_host_listings_count        int64\n",
       "reviews_per_month                   float64\n",
       "Length: 95, dtype: object"
      ]
     },
     "execution_count": 11,
     "metadata": {},
     "output_type": "execute_result"
    }
   ],
   "source": [
    "listing.dtypes"
   ]
  },
  {
   "cell_type": "code",
   "execution_count": 12,
   "metadata": {},
   "outputs": [
    {
     "data": {
      "text/html": [
       "<div>\n",
       "<style scoped>\n",
       "    .dataframe tbody tr th:only-of-type {\n",
       "        vertical-align: middle;\n",
       "    }\n",
       "\n",
       "    .dataframe tbody tr th {\n",
       "        vertical-align: top;\n",
       "    }\n",
       "\n",
       "    .dataframe thead th {\n",
       "        text-align: right;\n",
       "    }\n",
       "</style>\n",
       "<table border=\"1\" class=\"dataframe\">\n",
       "  <thead>\n",
       "    <tr style=\"text-align: right;\">\n",
       "      <th></th>\n",
       "      <th>id</th>\n",
       "      <th>listing_url</th>\n",
       "      <th>scrape_id</th>\n",
       "      <th>last_scraped</th>\n",
       "      <th>name</th>\n",
       "      <th>summary</th>\n",
       "      <th>space</th>\n",
       "      <th>description</th>\n",
       "      <th>experiences_offered</th>\n",
       "      <th>neighborhood_overview</th>\n",
       "      <th>...</th>\n",
       "      <th>review_scores_value</th>\n",
       "      <th>requires_license</th>\n",
       "      <th>license</th>\n",
       "      <th>jurisdiction_names</th>\n",
       "      <th>instant_bookable</th>\n",
       "      <th>cancellation_policy</th>\n",
       "      <th>require_guest_profile_picture</th>\n",
       "      <th>require_guest_phone_verification</th>\n",
       "      <th>calculated_host_listings_count</th>\n",
       "      <th>reviews_per_month</th>\n",
       "    </tr>\n",
       "  </thead>\n",
       "  <tbody>\n",
       "    <tr>\n",
       "      <th>3137</th>\n",
       "      <td>8274008</td>\n",
       "      <td>https://www.airbnb.com/rooms/8274008</td>\n",
       "      <td>20160906204935</td>\n",
       "      <td>2016-09-07</td>\n",
       "      <td>Private Room/Bath in S.Boston, steps to T.</td>\n",
       "      <td>Welcome to stay with us!!! This room is locate...</td>\n",
       "      <td>NaN</td>\n",
       "      <td>Welcome to stay with us!!! This room is locate...</td>\n",
       "      <td>none</td>\n",
       "      <td>We are located 5 min walk to Andrew Red line T...</td>\n",
       "      <td>...</td>\n",
       "      <td>10.0</td>\n",
       "      <td>f</td>\n",
       "      <td>NaN</td>\n",
       "      <td>NaN</td>\n",
       "      <td>f</td>\n",
       "      <td>moderate</td>\n",
       "      <td>f</td>\n",
       "      <td>f</td>\n",
       "      <td>2</td>\n",
       "      <td>2.65</td>\n",
       "    </tr>\n",
       "    <tr>\n",
       "      <th>2689</th>\n",
       "      <td>6300089</td>\n",
       "      <td>https://www.airbnb.com/rooms/6300089</td>\n",
       "      <td>20160906204935</td>\n",
       "      <td>2016-09-07</td>\n",
       "      <td>Rustic, european style 3 bed/2bath</td>\n",
       "      <td>Beautiful, fully renovated apartment 3 bd/2bth...</td>\n",
       "      <td>A clean and renovated apartment with all ameni...</td>\n",
       "      <td>Beautiful, fully renovated apartment 3 bd/2bth...</td>\n",
       "      <td>none</td>\n",
       "      <td>The neighborhood is close to the city in a ver...</td>\n",
       "      <td>...</td>\n",
       "      <td>10.0</td>\n",
       "      <td>f</td>\n",
       "      <td>NaN</td>\n",
       "      <td>NaN</td>\n",
       "      <td>f</td>\n",
       "      <td>strict</td>\n",
       "      <td>f</td>\n",
       "      <td>f</td>\n",
       "      <td>1</td>\n",
       "      <td>1.42</td>\n",
       "    </tr>\n",
       "  </tbody>\n",
       "</table>\n",
       "<p>2 rows × 95 columns</p>\n",
       "</div>"
      ],
      "text/plain": [
       "           id                           listing_url       scrape_id  \\\n",
       "3137  8274008  https://www.airbnb.com/rooms/8274008  20160906204935   \n",
       "2689  6300089  https://www.airbnb.com/rooms/6300089  20160906204935   \n",
       "\n",
       "     last_scraped                                        name  \\\n",
       "3137   2016-09-07  Private Room/Bath in S.Boston, steps to T.   \n",
       "2689   2016-09-07          Rustic, european style 3 bed/2bath   \n",
       "\n",
       "                                                summary  \\\n",
       "3137  Welcome to stay with us!!! This room is locate...   \n",
       "2689  Beautiful, fully renovated apartment 3 bd/2bth...   \n",
       "\n",
       "                                                  space  \\\n",
       "3137                                                NaN   \n",
       "2689  A clean and renovated apartment with all ameni...   \n",
       "\n",
       "                                            description experiences_offered  \\\n",
       "3137  Welcome to stay with us!!! This room is locate...                none   \n",
       "2689  Beautiful, fully renovated apartment 3 bd/2bth...                none   \n",
       "\n",
       "                                  neighborhood_overview  ...  \\\n",
       "3137  We are located 5 min walk to Andrew Red line T...  ...   \n",
       "2689  The neighborhood is close to the city in a ver...  ...   \n",
       "\n",
       "     review_scores_value requires_license license jurisdiction_names  \\\n",
       "3137                10.0                f     NaN                NaN   \n",
       "2689                10.0                f     NaN                NaN   \n",
       "\n",
       "     instant_bookable cancellation_policy require_guest_profile_picture  \\\n",
       "3137                f            moderate                             f   \n",
       "2689                f              strict                             f   \n",
       "\n",
       "     require_guest_phone_verification calculated_host_listings_count  \\\n",
       "3137                                f                              2   \n",
       "2689                                f                              1   \n",
       "\n",
       "      reviews_per_month  \n",
       "3137               2.65  \n",
       "2689               1.42  \n",
       "\n",
       "[2 rows x 95 columns]"
      ]
     },
     "execution_count": 12,
     "metadata": {},
     "output_type": "execute_result"
    }
   ],
   "source": [
    "listing.sample(2)"
   ]
  },
  {
   "cell_type": "code",
   "execution_count": 13,
   "metadata": {},
   "outputs": [
    {
     "data": {
      "text/plain": [
       "id                                    int64\n",
       "listing_url                          object\n",
       "scrape_id                             int64\n",
       "last_scraped                         object\n",
       "name                                 object\n",
       "                                     ...   \n",
       "cancellation_policy                  object\n",
       "require_guest_profile_picture        object\n",
       "require_guest_phone_verification     object\n",
       "calculated_host_listings_count        int64\n",
       "reviews_per_month                   float64\n",
       "Length: 95, dtype: object"
      ]
     },
     "execution_count": 13,
     "metadata": {},
     "output_type": "execute_result"
    }
   ],
   "source": [
    "listing.dtypes"
   ]
  },
  {
   "cell_type": "markdown",
   "metadata": {},
   "source": [
    "# Data Preparation\n",
    "#### Pre Data Wrangling"
   ]
  },
  {
   "cell_type": "code",
   "execution_count": 14,
   "metadata": {},
   "outputs": [
    {
     "name": "stdout",
     "output_type": "stream",
     "text": [
      "<class 'pandas.core.frame.DataFrame'>\n",
      "RangeIndex: 3585 entries, 0 to 3584\n",
      "Data columns (total 95 columns):\n",
      " #   Column                            Non-Null Count  Dtype  \n",
      "---  ------                            --------------  -----  \n",
      " 0   id                                3585 non-null   int64  \n",
      " 1   listing_url                       3585 non-null   object \n",
      " 2   scrape_id                         3585 non-null   int64  \n",
      " 3   last_scraped                      3585 non-null   object \n",
      " 4   name                              3585 non-null   object \n",
      " 5   summary                           3442 non-null   object \n",
      " 6   space                             2528 non-null   object \n",
      " 7   description                       3585 non-null   object \n",
      " 8   experiences_offered               3585 non-null   object \n",
      " 9   neighborhood_overview             2170 non-null   object \n",
      " 10  notes                             1610 non-null   object \n",
      " 11  transit                           2295 non-null   object \n",
      " 12  access                            2096 non-null   object \n",
      " 13  interaction                       2031 non-null   object \n",
      " 14  house_rules                       2393 non-null   object \n",
      " 15  thumbnail_url                     2986 non-null   object \n",
      " 16  medium_url                        2986 non-null   object \n",
      " 17  picture_url                       3585 non-null   object \n",
      " 18  xl_picture_url                    2986 non-null   object \n",
      " 19  host_id                           3585 non-null   int64  \n",
      " 20  host_url                          3585 non-null   object \n",
      " 21  host_name                         3585 non-null   object \n",
      " 22  host_since                        3585 non-null   object \n",
      " 23  host_location                     3574 non-null   object \n",
      " 24  host_about                        2276 non-null   object \n",
      " 25  host_response_time                3114 non-null   object \n",
      " 26  host_response_rate                3114 non-null   object \n",
      " 27  host_acceptance_rate              3114 non-null   object \n",
      " 28  host_is_superhost                 3585 non-null   object \n",
      " 29  host_thumbnail_url                3585 non-null   object \n",
      " 30  host_picture_url                  3585 non-null   object \n",
      " 31  host_neighbourhood                3246 non-null   object \n",
      " 32  host_listings_count               3585 non-null   int64  \n",
      " 33  host_total_listings_count         3585 non-null   int64  \n",
      " 34  host_verifications                3585 non-null   object \n",
      " 35  host_has_profile_pic              3585 non-null   object \n",
      " 36  host_identity_verified            3585 non-null   object \n",
      " 37  street                            3585 non-null   object \n",
      " 38  neighbourhood                     3042 non-null   object \n",
      " 39  neighbourhood_cleansed            3585 non-null   object \n",
      " 40  neighbourhood_group_cleansed      0 non-null      float64\n",
      " 41  city                              3583 non-null   object \n",
      " 42  state                             3585 non-null   object \n",
      " 43  zipcode                           3547 non-null   object \n",
      " 44  market                            3571 non-null   object \n",
      " 45  smart_location                    3585 non-null   object \n",
      " 46  country_code                      3585 non-null   object \n",
      " 47  country                           3585 non-null   object \n",
      " 48  latitude                          3585 non-null   float64\n",
      " 49  longitude                         3585 non-null   float64\n",
      " 50  is_location_exact                 3585 non-null   object \n",
      " 51  property_type                     3582 non-null   object \n",
      " 52  room_type                         3585 non-null   object \n",
      " 53  accommodates                      3585 non-null   int64  \n",
      " 54  bathrooms                         3571 non-null   float64\n",
      " 55  bedrooms                          3575 non-null   float64\n",
      " 56  beds                              3576 non-null   float64\n",
      " 57  bed_type                          3585 non-null   object \n",
      " 58  amenities                         3585 non-null   object \n",
      " 59  square_feet                       56 non-null     float64\n",
      " 60  price                             3585 non-null   object \n",
      " 61  weekly_price                      892 non-null    object \n",
      " 62  monthly_price                     888 non-null    object \n",
      " 63  security_deposit                  1342 non-null   object \n",
      " 64  cleaning_fee                      2478 non-null   object \n",
      " 65  guests_included                   3585 non-null   int64  \n",
      " 66  extra_people                      3585 non-null   object \n",
      " 67  minimum_nights                    3585 non-null   int64  \n",
      " 68  maximum_nights                    3585 non-null   int64  \n",
      " 69  calendar_updated                  3585 non-null   object \n",
      " 70  has_availability                  0 non-null      float64\n",
      " 71  availability_30                   3585 non-null   int64  \n",
      " 72  availability_60                   3585 non-null   int64  \n",
      " 73  availability_90                   3585 non-null   int64  \n",
      " 74  availability_365                  3585 non-null   int64  \n",
      " 75  calendar_last_scraped             3585 non-null   object \n",
      " 76  number_of_reviews                 3585 non-null   int64  \n",
      " 77  first_review                      2829 non-null   object \n",
      " 78  last_review                       2829 non-null   object \n",
      " 79  review_scores_rating              2772 non-null   float64\n",
      " 80  review_scores_accuracy            2762 non-null   float64\n",
      " 81  review_scores_cleanliness         2767 non-null   float64\n",
      " 82  review_scores_checkin             2765 non-null   float64\n",
      " 83  review_scores_communication       2767 non-null   float64\n",
      " 84  review_scores_location            2763 non-null   float64\n",
      " 85  review_scores_value               2764 non-null   float64\n",
      " 86  requires_license                  3585 non-null   object \n",
      " 87  license                           0 non-null      float64\n",
      " 88  jurisdiction_names                0 non-null      float64\n",
      " 89  instant_bookable                  3585 non-null   object \n",
      " 90  cancellation_policy               3585 non-null   object \n",
      " 91  require_guest_profile_picture     3585 non-null   object \n",
      " 92  require_guest_phone_verification  3585 non-null   object \n",
      " 93  calculated_host_listings_count    3585 non-null   int64  \n",
      " 94  reviews_per_month                 2829 non-null   float64\n",
      "dtypes: float64(18), int64(15), object(62)\n",
      "memory usage: 2.6+ MB\n"
     ]
    }
   ],
   "source": [
    "listing.info()"
   ]
  },
  {
   "cell_type": "code",
   "execution_count": 15,
   "metadata": {},
   "outputs": [
    {
     "name": "stdout",
     "output_type": "stream",
     "text": [
      "<class 'pandas.core.frame.DataFrame'>\n",
      "RangeIndex: 1308890 entries, 0 to 1308889\n",
      "Data columns (total 4 columns):\n",
      " #   Column      Non-Null Count    Dtype \n",
      "---  ------      --------------    ----- \n",
      " 0   listing_id  1308890 non-null  int64 \n",
      " 1   date        1308890 non-null  object\n",
      " 2   available   1308890 non-null  object\n",
      " 3   price       643037 non-null   object\n",
      "dtypes: int64(1), object(3)\n",
      "memory usage: 39.9+ MB\n"
     ]
    }
   ],
   "source": [
    "calender.info()"
   ]
  },
  {
   "cell_type": "code",
   "execution_count": 16,
   "metadata": {},
   "outputs": [
    {
     "name": "stdout",
     "output_type": "stream",
     "text": [
      "<class 'pandas.core.frame.DataFrame'>\n",
      "RangeIndex: 68275 entries, 0 to 68274\n",
      "Data columns (total 6 columns):\n",
      " #   Column         Non-Null Count  Dtype \n",
      "---  ------         --------------  ----- \n",
      " 0   listing_id     68275 non-null  int64 \n",
      " 1   id             68275 non-null  int64 \n",
      " 2   date           68275 non-null  object\n",
      " 3   reviewer_id    68275 non-null  int64 \n",
      " 4   reviewer_name  68275 non-null  object\n",
      " 5   comments       68222 non-null  object\n",
      "dtypes: int64(3), object(3)\n",
      "memory usage: 3.1+ MB\n"
     ]
    }
   ],
   "source": [
    "reviews.info()"
   ]
  },
  {
   "cell_type": "code",
   "execution_count": 17,
   "metadata": {},
   "outputs": [
    {
     "name": "stdout",
     "output_type": "stream",
     "text": [
      "<class 'pandas.core.frame.DataFrame'>\n",
      "RangeIndex: 3585 entries, 0 to 3584\n",
      "Data columns (total 95 columns):\n",
      " #   Column                            Non-Null Count  Dtype  \n",
      "---  ------                            --------------  -----  \n",
      " 0   id                                3585 non-null   int64  \n",
      " 1   listing_url                       3585 non-null   object \n",
      " 2   scrape_id                         3585 non-null   int64  \n",
      " 3   last_scraped                      3585 non-null   object \n",
      " 4   name                              3585 non-null   object \n",
      " 5   summary                           3442 non-null   object \n",
      " 6   space                             2528 non-null   object \n",
      " 7   description                       3585 non-null   object \n",
      " 8   experiences_offered               3585 non-null   object \n",
      " 9   neighborhood_overview             2170 non-null   object \n",
      " 10  notes                             1610 non-null   object \n",
      " 11  transit                           2295 non-null   object \n",
      " 12  access                            2096 non-null   object \n",
      " 13  interaction                       2031 non-null   object \n",
      " 14  house_rules                       2393 non-null   object \n",
      " 15  thumbnail_url                     2986 non-null   object \n",
      " 16  medium_url                        2986 non-null   object \n",
      " 17  picture_url                       3585 non-null   object \n",
      " 18  xl_picture_url                    2986 non-null   object \n",
      " 19  host_id                           3585 non-null   int64  \n",
      " 20  host_url                          3585 non-null   object \n",
      " 21  host_name                         3585 non-null   object \n",
      " 22  host_since                        3585 non-null   object \n",
      " 23  host_location                     3574 non-null   object \n",
      " 24  host_about                        2276 non-null   object \n",
      " 25  host_response_time                3114 non-null   object \n",
      " 26  host_response_rate                3114 non-null   object \n",
      " 27  host_acceptance_rate              3114 non-null   object \n",
      " 28  host_is_superhost                 3585 non-null   object \n",
      " 29  host_thumbnail_url                3585 non-null   object \n",
      " 30  host_picture_url                  3585 non-null   object \n",
      " 31  host_neighbourhood                3246 non-null   object \n",
      " 32  host_listings_count               3585 non-null   int64  \n",
      " 33  host_total_listings_count         3585 non-null   int64  \n",
      " 34  host_verifications                3585 non-null   object \n",
      " 35  host_has_profile_pic              3585 non-null   object \n",
      " 36  host_identity_verified            3585 non-null   object \n",
      " 37  street                            3585 non-null   object \n",
      " 38  neighbourhood                     3042 non-null   object \n",
      " 39  neighbourhood_cleansed            3585 non-null   object \n",
      " 40  neighbourhood_group_cleansed      0 non-null      float64\n",
      " 41  city                              3583 non-null   object \n",
      " 42  state                             3585 non-null   object \n",
      " 43  zipcode                           3547 non-null   object \n",
      " 44  market                            3571 non-null   object \n",
      " 45  smart_location                    3585 non-null   object \n",
      " 46  country_code                      3585 non-null   object \n",
      " 47  country                           3585 non-null   object \n",
      " 48  latitude                          3585 non-null   float64\n",
      " 49  longitude                         3585 non-null   float64\n",
      " 50  is_location_exact                 3585 non-null   object \n",
      " 51  property_type                     3582 non-null   object \n",
      " 52  room_type                         3585 non-null   object \n",
      " 53  accommodates                      3585 non-null   int64  \n",
      " 54  bathrooms                         3571 non-null   float64\n",
      " 55  bedrooms                          3575 non-null   float64\n",
      " 56  beds                              3576 non-null   float64\n",
      " 57  bed_type                          3585 non-null   object \n",
      " 58  amenities                         3585 non-null   object \n",
      " 59  square_feet                       56 non-null     float64\n",
      " 60  price                             3585 non-null   object \n",
      " 61  weekly_price                      892 non-null    object \n",
      " 62  monthly_price                     888 non-null    object \n",
      " 63  security_deposit                  1342 non-null   object \n",
      " 64  cleaning_fee                      2478 non-null   object \n",
      " 65  guests_included                   3585 non-null   int64  \n",
      " 66  extra_people                      3585 non-null   object \n",
      " 67  minimum_nights                    3585 non-null   int64  \n",
      " 68  maximum_nights                    3585 non-null   int64  \n",
      " 69  calendar_updated                  3585 non-null   object \n",
      " 70  has_availability                  0 non-null      float64\n",
      " 71  availability_30                   3585 non-null   int64  \n",
      " 72  availability_60                   3585 non-null   int64  \n",
      " 73  availability_90                   3585 non-null   int64  \n",
      " 74  availability_365                  3585 non-null   int64  \n",
      " 75  calendar_last_scraped             3585 non-null   object \n",
      " 76  number_of_reviews                 3585 non-null   int64  \n",
      " 77  first_review                      2829 non-null   object \n",
      " 78  last_review                       2829 non-null   object \n",
      " 79  review_scores_rating              2772 non-null   float64\n",
      " 80  review_scores_accuracy            2762 non-null   float64\n",
      " 81  review_scores_cleanliness         2767 non-null   float64\n",
      " 82  review_scores_checkin             2765 non-null   float64\n",
      " 83  review_scores_communication       2767 non-null   float64\n",
      " 84  review_scores_location            2763 non-null   float64\n",
      " 85  review_scores_value               2764 non-null   float64\n",
      " 86  requires_license                  3585 non-null   object \n",
      " 87  license                           0 non-null      float64\n",
      " 88  jurisdiction_names                0 non-null      float64\n",
      " 89  instant_bookable                  3585 non-null   object \n",
      " 90  cancellation_policy               3585 non-null   object \n",
      " 91  require_guest_profile_picture     3585 non-null   object \n",
      " 92  require_guest_phone_verification  3585 non-null   object \n",
      " 93  calculated_host_listings_count    3585 non-null   int64  \n",
      " 94  reviews_per_month                 2829 non-null   float64\n",
      "dtypes: float64(18), int64(15), object(62)\n",
      "memory usage: 2.6+ MB\n"
     ]
    }
   ],
   "source": [
    "listing.info()"
   ]
  },
  {
   "cell_type": "code",
   "execution_count": 18,
   "metadata": {},
   "outputs": [],
   "source": [
    "# Dropping columns with zero values\n",
    "listing.drop(['license', 'jurisdiction_names', 'neighbourhood_group_cleansed', 'has_availability'], axis=1, inplace=True)"
   ]
  },
  {
   "cell_type": "code",
   "execution_count": 19,
   "metadata": {},
   "outputs": [],
   "source": [
    "#Changing datatypes to meaningful datatypes according to values.\n",
    "listing['last_scraped'] = pd.to_datetime(listing.last_scraped)"
   ]
  },
  {
   "cell_type": "code",
   "execution_count": 20,
   "metadata": {},
   "outputs": [],
   "source": [
    "# Function to change price columns to float\n",
    "def change_to_float(data, column):\n",
    "    data[column] = data[column].str.lstrip('$').str.replace(',','').astype(float)\n"
   ]
  },
  {
   "cell_type": "code",
   "execution_count": 21,
   "metadata": {},
   "outputs": [],
   "source": [
    "change_to_float(listing, 'price')\n",
    "change_to_float(listing, 'security_deposit')"
   ]
  },
  {
   "cell_type": "code",
   "execution_count": 22,
   "metadata": {},
   "outputs": [
    {
     "name": "stdout",
     "output_type": "stream",
     "text": [
      "0.0\n",
      "0.0\n",
      "1\n"
     ]
    }
   ],
   "source": [
    "print (listing.bedrooms.min())\n",
    "print (listing.bathrooms.min())\n",
    "print (listing.accommodates.min())"
   ]
  },
  {
   "cell_type": "code",
   "execution_count": 23,
   "metadata": {},
   "outputs": [
    {
     "data": {
      "text/plain": [
       "(3585, 91)"
      ]
     },
     "execution_count": 23,
     "metadata": {},
     "output_type": "execute_result"
    }
   ],
   "source": [
    "listing.shape"
   ]
  },
  {
   "cell_type": "code",
   "execution_count": 24,
   "metadata": {},
   "outputs": [
    {
     "data": {
      "text/plain": [
       "(10, 14)"
      ]
     },
     "execution_count": 24,
     "metadata": {},
     "output_type": "execute_result"
    }
   ],
   "source": [
    "listing.bedrooms.isnull().sum(), listing.bathrooms.isnull().sum()"
   ]
  },
  {
   "cell_type": "code",
   "execution_count": 25,
   "metadata": {},
   "outputs": [],
   "source": [
    "listing.dropna(subset=['bedrooms'], axis=0, inplace= True)"
   ]
  },
  {
   "cell_type": "code",
   "execution_count": 26,
   "metadata": {},
   "outputs": [],
   "source": [
    "listing.dropna(subset=['bathrooms'], axis=0, inplace= True)"
   ]
  },
  {
   "cell_type": "code",
   "execution_count": 27,
   "metadata": {},
   "outputs": [
    {
     "data": {
      "text/plain": [
       "(0, 0)"
      ]
     },
     "execution_count": 27,
     "metadata": {},
     "output_type": "execute_result"
    }
   ],
   "source": [
    "listing.bedrooms.isnull().sum(), listing.bathrooms.isnull().sum()"
   ]
  },
  {
   "cell_type": "code",
   "execution_count": 28,
   "metadata": {},
   "outputs": [],
   "source": [
    "# Converting the bedroom and bathroom from float to int\n",
    "listing.bedrooms = listing.bedrooms.astype('int')\n",
    "listing.bathrooms = listing.bathrooms.astype('int')"
   ]
  },
  {
   "cell_type": "code",
   "execution_count": 29,
   "metadata": {},
   "outputs": [
    {
     "data": {
      "text/html": [
       "<div>\n",
       "<style scoped>\n",
       "    .dataframe tbody tr th:only-of-type {\n",
       "        vertical-align: middle;\n",
       "    }\n",
       "\n",
       "    .dataframe tbody tr th {\n",
       "        vertical-align: top;\n",
       "    }\n",
       "\n",
       "    .dataframe thead th {\n",
       "        text-align: right;\n",
       "    }\n",
       "</style>\n",
       "<table border=\"1\" class=\"dataframe\">\n",
       "  <thead>\n",
       "    <tr style=\"text-align: right;\">\n",
       "      <th></th>\n",
       "      <th>bathrooms</th>\n",
       "      <th>bedrooms</th>\n",
       "    </tr>\n",
       "  </thead>\n",
       "  <tbody>\n",
       "    <tr>\n",
       "      <th>0</th>\n",
       "      <td>1</td>\n",
       "      <td>2</td>\n",
       "    </tr>\n",
       "    <tr>\n",
       "      <th>1</th>\n",
       "      <td>1</td>\n",
       "      <td>1</td>\n",
       "    </tr>\n",
       "    <tr>\n",
       "      <th>2</th>\n",
       "      <td>1</td>\n",
       "      <td>1</td>\n",
       "    </tr>\n",
       "    <tr>\n",
       "      <th>3</th>\n",
       "      <td>1</td>\n",
       "      <td>1</td>\n",
       "    </tr>\n",
       "    <tr>\n",
       "      <th>4</th>\n",
       "      <td>1</td>\n",
       "      <td>1</td>\n",
       "    </tr>\n",
       "  </tbody>\n",
       "</table>\n",
       "</div>"
      ],
      "text/plain": [
       "   bathrooms  bedrooms\n",
       "0          1         2\n",
       "1          1         1\n",
       "2          1         1\n",
       "3          1         1\n",
       "4          1         1"
      ]
     },
     "execution_count": 29,
     "metadata": {},
     "output_type": "execute_result"
    }
   ],
   "source": [
    "listing[['bathrooms', 'bedrooms']].head()"
   ]
  },
  {
   "cell_type": "code",
   "execution_count": 30,
   "metadata": {},
   "outputs": [
    {
     "data": {
      "text/plain": [
       "(3561, 91)"
      ]
     },
     "execution_count": 30,
     "metadata": {},
     "output_type": "execute_result"
    }
   ],
   "source": [
    "listing.shape"
   ]
  },
  {
   "cell_type": "code",
   "execution_count": 31,
   "metadata": {},
   "outputs": [
    {
     "data": {
      "text/plain": [
       "0"
      ]
     },
     "execution_count": 31,
     "metadata": {},
     "output_type": "execute_result"
    }
   ],
   "source": [
    "listing.duplicated().sum()"
   ]
  },
  {
   "cell_type": "code",
   "execution_count": 32,
   "metadata": {},
   "outputs": [
    {
     "name": "stdout",
     "output_type": "stream",
     "text": [
      "<class 'pandas.core.frame.DataFrame'>\n",
      "Int64Index: 3561 entries, 0 to 3584\n",
      "Data columns (total 91 columns):\n",
      " #   Column                            Non-Null Count  Dtype         \n",
      "---  ------                            --------------  -----         \n",
      " 0   id                                3561 non-null   int64         \n",
      " 1   listing_url                       3561 non-null   object        \n",
      " 2   scrape_id                         3561 non-null   int64         \n",
      " 3   last_scraped                      3561 non-null   datetime64[ns]\n",
      " 4   name                              3561 non-null   object        \n",
      " 5   summary                           3435 non-null   object        \n",
      " 6   space                             2505 non-null   object        \n",
      " 7   description                       3561 non-null   object        \n",
      " 8   experiences_offered               3561 non-null   object        \n",
      " 9   neighborhood_overview             2164 non-null   object        \n",
      " 10  notes                             1606 non-null   object        \n",
      " 11  transit                           2289 non-null   object        \n",
      " 12  access                            2091 non-null   object        \n",
      " 13  interaction                       2026 non-null   object        \n",
      " 14  house_rules                       2378 non-null   object        \n",
      " 15  thumbnail_url                     2969 non-null   object        \n",
      " 16  medium_url                        2969 non-null   object        \n",
      " 17  picture_url                       3561 non-null   object        \n",
      " 18  xl_picture_url                    2969 non-null   object        \n",
      " 19  host_id                           3561 non-null   int64         \n",
      " 20  host_url                          3561 non-null   object        \n",
      " 21  host_name                         3561 non-null   object        \n",
      " 22  host_since                        3561 non-null   object        \n",
      " 23  host_location                     3550 non-null   object        \n",
      " 24  host_about                        2257 non-null   object        \n",
      " 25  host_response_time                3091 non-null   object        \n",
      " 26  host_response_rate                3091 non-null   object        \n",
      " 27  host_acceptance_rate              3091 non-null   object        \n",
      " 28  host_is_superhost                 3561 non-null   object        \n",
      " 29  host_thumbnail_url                3561 non-null   object        \n",
      " 30  host_picture_url                  3561 non-null   object        \n",
      " 31  host_neighbourhood                3224 non-null   object        \n",
      " 32  host_listings_count               3561 non-null   int64         \n",
      " 33  host_total_listings_count         3561 non-null   int64         \n",
      " 34  host_verifications                3561 non-null   object        \n",
      " 35  host_has_profile_pic              3561 non-null   object        \n",
      " 36  host_identity_verified            3561 non-null   object        \n",
      " 37  street                            3561 non-null   object        \n",
      " 38  neighbourhood                     3021 non-null   object        \n",
      " 39  neighbourhood_cleansed            3561 non-null   object        \n",
      " 40  city                              3559 non-null   object        \n",
      " 41  state                             3561 non-null   object        \n",
      " 42  zipcode                           3523 non-null   object        \n",
      " 43  market                            3547 non-null   object        \n",
      " 44  smart_location                    3561 non-null   object        \n",
      " 45  country_code                      3561 non-null   object        \n",
      " 46  country                           3561 non-null   object        \n",
      " 47  latitude                          3561 non-null   float64       \n",
      " 48  longitude                         3561 non-null   float64       \n",
      " 49  is_location_exact                 3561 non-null   object        \n",
      " 50  property_type                     3558 non-null   object        \n",
      " 51  room_type                         3561 non-null   object        \n",
      " 52  accommodates                      3561 non-null   int64         \n",
      " 53  bathrooms                         3561 non-null   int32         \n",
      " 54  bedrooms                          3561 non-null   int32         \n",
      " 55  beds                              3557 non-null   float64       \n",
      " 56  bed_type                          3561 non-null   object        \n",
      " 57  amenities                         3561 non-null   object        \n",
      " 58  square_feet                       56 non-null     float64       \n",
      " 59  price                             3561 non-null   float64       \n",
      " 60  weekly_price                      888 non-null    object        \n",
      " 61  monthly_price                     874 non-null    object        \n",
      " 62  security_deposit                  1337 non-null   float64       \n",
      " 63  cleaning_fee                      2466 non-null   object        \n",
      " 64  guests_included                   3561 non-null   int64         \n",
      " 65  extra_people                      3561 non-null   object        \n",
      " 66  minimum_nights                    3561 non-null   int64         \n",
      " 67  maximum_nights                    3561 non-null   int64         \n",
      " 68  calendar_updated                  3561 non-null   object        \n",
      " 69  availability_30                   3561 non-null   int64         \n",
      " 70  availability_60                   3561 non-null   int64         \n",
      " 71  availability_90                   3561 non-null   int64         \n",
      " 72  availability_365                  3561 non-null   int64         \n",
      " 73  calendar_last_scraped             3561 non-null   object        \n",
      " 74  number_of_reviews                 3561 non-null   int64         \n",
      " 75  first_review                      2809 non-null   object        \n",
      " 76  last_review                       2809 non-null   object        \n",
      " 77  review_scores_rating              2753 non-null   float64       \n",
      " 78  review_scores_accuracy            2742 non-null   float64       \n",
      " 79  review_scores_cleanliness         2747 non-null   float64       \n",
      " 80  review_scores_checkin             2745 non-null   float64       \n",
      " 81  review_scores_communication       2747 non-null   float64       \n",
      " 82  review_scores_location            2743 non-null   float64       \n",
      " 83  review_scores_value               2744 non-null   float64       \n",
      " 84  requires_license                  3561 non-null   object        \n",
      " 85  instant_bookable                  3561 non-null   object        \n",
      " 86  cancellation_policy               3561 non-null   object        \n",
      " 87  require_guest_profile_picture     3561 non-null   object        \n",
      " 88  require_guest_phone_verification  3561 non-null   object        \n",
      " 89  calculated_host_listings_count    3561 non-null   int64         \n",
      " 90  reviews_per_month                 2809 non-null   float64       \n",
      "dtypes: datetime64[ns](1), float64(14), int32(2), int64(15), object(59)\n",
      "memory usage: 2.5+ MB\n"
     ]
    }
   ],
   "source": [
    "listing.info()"
   ]
  },
  {
   "cell_type": "code",
   "execution_count": 33,
   "metadata": {},
   "outputs": [],
   "source": [
    "# Filling NaN with 0\n",
    "listing.fillna(0, inplace=True)"
   ]
  },
  {
   "cell_type": "code",
   "execution_count": 34,
   "metadata": {},
   "outputs": [
    {
     "data": {
      "text/plain": [
       "(3561, 91)"
      ]
     },
     "execution_count": 34,
     "metadata": {},
     "output_type": "execute_result"
    }
   ],
   "source": [
    "listing.shape"
   ]
  },
  {
   "cell_type": "code",
   "execution_count": 35,
   "metadata": {},
   "outputs": [
    {
     "name": "stdout",
     "output_type": "stream",
     "text": [
      "<class 'pandas.core.frame.DataFrame'>\n",
      "Int64Index: 3561 entries, 0 to 3584\n",
      "Data columns (total 91 columns):\n",
      " #   Column                            Non-Null Count  Dtype         \n",
      "---  ------                            --------------  -----         \n",
      " 0   id                                3561 non-null   int64         \n",
      " 1   listing_url                       3561 non-null   object        \n",
      " 2   scrape_id                         3561 non-null   int64         \n",
      " 3   last_scraped                      3561 non-null   datetime64[ns]\n",
      " 4   name                              3561 non-null   object        \n",
      " 5   summary                           3561 non-null   object        \n",
      " 6   space                             3561 non-null   object        \n",
      " 7   description                       3561 non-null   object        \n",
      " 8   experiences_offered               3561 non-null   object        \n",
      " 9   neighborhood_overview             3561 non-null   object        \n",
      " 10  notes                             3561 non-null   object        \n",
      " 11  transit                           3561 non-null   object        \n",
      " 12  access                            3561 non-null   object        \n",
      " 13  interaction                       3561 non-null   object        \n",
      " 14  house_rules                       3561 non-null   object        \n",
      " 15  thumbnail_url                     3561 non-null   object        \n",
      " 16  medium_url                        3561 non-null   object        \n",
      " 17  picture_url                       3561 non-null   object        \n",
      " 18  xl_picture_url                    3561 non-null   object        \n",
      " 19  host_id                           3561 non-null   int64         \n",
      " 20  host_url                          3561 non-null   object        \n",
      " 21  host_name                         3561 non-null   object        \n",
      " 22  host_since                        3561 non-null   object        \n",
      " 23  host_location                     3561 non-null   object        \n",
      " 24  host_about                        3561 non-null   object        \n",
      " 25  host_response_time                3561 non-null   object        \n",
      " 26  host_response_rate                3561 non-null   object        \n",
      " 27  host_acceptance_rate              3561 non-null   object        \n",
      " 28  host_is_superhost                 3561 non-null   object        \n",
      " 29  host_thumbnail_url                3561 non-null   object        \n",
      " 30  host_picture_url                  3561 non-null   object        \n",
      " 31  host_neighbourhood                3561 non-null   object        \n",
      " 32  host_listings_count               3561 non-null   int64         \n",
      " 33  host_total_listings_count         3561 non-null   int64         \n",
      " 34  host_verifications                3561 non-null   object        \n",
      " 35  host_has_profile_pic              3561 non-null   object        \n",
      " 36  host_identity_verified            3561 non-null   object        \n",
      " 37  street                            3561 non-null   object        \n",
      " 38  neighbourhood                     3561 non-null   object        \n",
      " 39  neighbourhood_cleansed            3561 non-null   object        \n",
      " 40  city                              3561 non-null   object        \n",
      " 41  state                             3561 non-null   object        \n",
      " 42  zipcode                           3561 non-null   object        \n",
      " 43  market                            3561 non-null   object        \n",
      " 44  smart_location                    3561 non-null   object        \n",
      " 45  country_code                      3561 non-null   object        \n",
      " 46  country                           3561 non-null   object        \n",
      " 47  latitude                          3561 non-null   float64       \n",
      " 48  longitude                         3561 non-null   float64       \n",
      " 49  is_location_exact                 3561 non-null   object        \n",
      " 50  property_type                     3561 non-null   object        \n",
      " 51  room_type                         3561 non-null   object        \n",
      " 52  accommodates                      3561 non-null   int64         \n",
      " 53  bathrooms                         3561 non-null   int32         \n",
      " 54  bedrooms                          3561 non-null   int32         \n",
      " 55  beds                              3561 non-null   float64       \n",
      " 56  bed_type                          3561 non-null   object        \n",
      " 57  amenities                         3561 non-null   object        \n",
      " 58  square_feet                       3561 non-null   float64       \n",
      " 59  price                             3561 non-null   float64       \n",
      " 60  weekly_price                      3561 non-null   object        \n",
      " 61  monthly_price                     3561 non-null   object        \n",
      " 62  security_deposit                  3561 non-null   float64       \n",
      " 63  cleaning_fee                      3561 non-null   object        \n",
      " 64  guests_included                   3561 non-null   int64         \n",
      " 65  extra_people                      3561 non-null   object        \n",
      " 66  minimum_nights                    3561 non-null   int64         \n",
      " 67  maximum_nights                    3561 non-null   int64         \n",
      " 68  calendar_updated                  3561 non-null   object        \n",
      " 69  availability_30                   3561 non-null   int64         \n",
      " 70  availability_60                   3561 non-null   int64         \n",
      " 71  availability_90                   3561 non-null   int64         \n",
      " 72  availability_365                  3561 non-null   int64         \n",
      " 73  calendar_last_scraped             3561 non-null   object        \n",
      " 74  number_of_reviews                 3561 non-null   int64         \n",
      " 75  first_review                      3561 non-null   object        \n",
      " 76  last_review                       3561 non-null   object        \n",
      " 77  review_scores_rating              3561 non-null   float64       \n",
      " 78  review_scores_accuracy            3561 non-null   float64       \n",
      " 79  review_scores_cleanliness         3561 non-null   float64       \n",
      " 80  review_scores_checkin             3561 non-null   float64       \n",
      " 81  review_scores_communication       3561 non-null   float64       \n",
      " 82  review_scores_location            3561 non-null   float64       \n",
      " 83  review_scores_value               3561 non-null   float64       \n",
      " 84  requires_license                  3561 non-null   object        \n",
      " 85  instant_bookable                  3561 non-null   object        \n",
      " 86  cancellation_policy               3561 non-null   object        \n",
      " 87  require_guest_profile_picture     3561 non-null   object        \n",
      " 88  require_guest_phone_verification  3561 non-null   object        \n",
      " 89  calculated_host_listings_count    3561 non-null   int64         \n",
      " 90  reviews_per_month                 3561 non-null   float64       \n",
      "dtypes: datetime64[ns](1), float64(14), int32(2), int64(15), object(59)\n",
      "memory usage: 2.5+ MB\n"
     ]
    }
   ],
   "source": [
    "listing.info()"
   ]
  },
  {
   "cell_type": "code",
   "execution_count": 36,
   "metadata": {},
   "outputs": [
    {
     "data": {
      "text/plain": [
       "array(['Boston', 'Roslindale', 'Roslindale, Boston', 'Jamaica Plain',\n",
       "       'Brookline', 'Jamaica Plain, Boston', 'Jamaica Plain (Boston)',\n",
       "       'Roxbury Crossing', 'Jamaica Plain ', 'Jamaica Plain, MA',\n",
       "       'Boston (Jamaica Plain)', 'Jamaica plain ', 'ROXBURY CROSSING',\n",
       "       'Mission Hill, Boston', 'boston', '波士顿',\n",
       "       'Boston, Massachusetts, US', 'South End, Boston', 'Cambridge',\n",
       "       'East Boston', 'east Boston ', 'Charlestown',\n",
       "       'Boston (Charlestown)', 'Somerville', 'Watertown', 'Brighton',\n",
       "       'Brighton ', 'Boston ', 0, 'West Roxbury', 'Newton', 'Hyde Park',\n",
       "       'Mattapan', 'Milton', 'Dorchester', 'dorchester, boston ',\n",
       "       'South Boston', 'Allston', 'ALLSTON'], dtype=object)"
      ]
     },
     "execution_count": 36,
     "metadata": {},
     "output_type": "execute_result"
    }
   ],
   "source": [
    "listing.city.unique()"
   ]
  },
  {
   "cell_type": "markdown",
   "metadata": {},
   "source": [
    "Some of the values are repeated several times with capital letters etc.. so we have to cater those values to make the city column consistent as well as their is an ambiguous city name that is not in english so we have to drop that too."
   ]
  },
  {
   "cell_type": "code",
   "execution_count": 37,
   "metadata": {},
   "outputs": [
    {
     "data": {
      "text/html": [
       "<div>\n",
       "<style scoped>\n",
       "    .dataframe tbody tr th:only-of-type {\n",
       "        vertical-align: middle;\n",
       "    }\n",
       "\n",
       "    .dataframe tbody tr th {\n",
       "        vertical-align: top;\n",
       "    }\n",
       "\n",
       "    .dataframe thead th {\n",
       "        text-align: right;\n",
       "    }\n",
       "</style>\n",
       "<table border=\"1\" class=\"dataframe\">\n",
       "  <thead>\n",
       "    <tr style=\"text-align: right;\">\n",
       "      <th></th>\n",
       "      <th>id</th>\n",
       "      <th>listing_url</th>\n",
       "      <th>scrape_id</th>\n",
       "      <th>last_scraped</th>\n",
       "      <th>name</th>\n",
       "      <th>summary</th>\n",
       "      <th>space</th>\n",
       "      <th>description</th>\n",
       "      <th>experiences_offered</th>\n",
       "      <th>neighborhood_overview</th>\n",
       "      <th>...</th>\n",
       "      <th>review_scores_communication</th>\n",
       "      <th>review_scores_location</th>\n",
       "      <th>review_scores_value</th>\n",
       "      <th>requires_license</th>\n",
       "      <th>instant_bookable</th>\n",
       "      <th>cancellation_policy</th>\n",
       "      <th>require_guest_profile_picture</th>\n",
       "      <th>require_guest_phone_verification</th>\n",
       "      <th>calculated_host_listings_count</th>\n",
       "      <th>reviews_per_month</th>\n",
       "    </tr>\n",
       "  </thead>\n",
       "  <tbody>\n",
       "    <tr>\n",
       "      <th>485</th>\n",
       "      <td>4625517</td>\n",
       "      <td>https://www.airbnb.com/rooms/4625517</td>\n",
       "      <td>20160906204935</td>\n",
       "      <td>2016-09-07</td>\n",
       "      <td>GreenT&amp;bus stops in front of door</td>\n",
       "      <td>Super convenient :30 seconds walk to Green T a...</td>\n",
       "      <td>Awesome area of Brookline&amp;Boston, one block fr...</td>\n",
       "      <td>Super convenient :30 seconds walk to Green T a...</td>\n",
       "      <td>none</td>\n",
       "      <td>Connivence to almost everywhere-  penguins piz...</td>\n",
       "      <td>...</td>\n",
       "      <td>0.0</td>\n",
       "      <td>0.0</td>\n",
       "      <td>0.0</td>\n",
       "      <td>f</td>\n",
       "      <td>f</td>\n",
       "      <td>strict</td>\n",
       "      <td>f</td>\n",
       "      <td>f</td>\n",
       "      <td>1</td>\n",
       "      <td>0.0</td>\n",
       "    </tr>\n",
       "  </tbody>\n",
       "</table>\n",
       "<p>1 rows × 91 columns</p>\n",
       "</div>"
      ],
      "text/plain": [
       "          id                           listing_url       scrape_id  \\\n",
       "485  4625517  https://www.airbnb.com/rooms/4625517  20160906204935   \n",
       "\n",
       "    last_scraped                                name  \\\n",
       "485   2016-09-07  GreenT&bus stops in front of door    \n",
       "\n",
       "                                               summary  \\\n",
       "485  Super convenient :30 seconds walk to Green T a...   \n",
       "\n",
       "                                                 space  \\\n",
       "485  Awesome area of Brookline&Boston, one block fr...   \n",
       "\n",
       "                                           description experiences_offered  \\\n",
       "485  Super convenient :30 seconds walk to Green T a...                none   \n",
       "\n",
       "                                 neighborhood_overview  ...  \\\n",
       "485  Connivence to almost everywhere-  penguins piz...  ...   \n",
       "\n",
       "    review_scores_communication review_scores_location review_scores_value  \\\n",
       "485                         0.0                    0.0                 0.0   \n",
       "\n",
       "    requires_license instant_bookable cancellation_policy  \\\n",
       "485                f                f              strict   \n",
       "\n",
       "    require_guest_profile_picture require_guest_phone_verification  \\\n",
       "485                             f                                f   \n",
       "\n",
       "    calculated_host_listings_count  reviews_per_month  \n",
       "485                              1                0.0  \n",
       "\n",
       "[1 rows x 91 columns]"
      ]
     },
     "execution_count": 37,
     "metadata": {},
     "output_type": "execute_result"
    }
   ],
   "source": [
    "listing[listing.city == '波士顿']"
   ]
  },
  {
   "cell_type": "code",
   "execution_count": 38,
   "metadata": {},
   "outputs": [],
   "source": [
    "listing.drop(index = 485, inplace=True)"
   ]
  },
  {
   "cell_type": "code",
   "execution_count": 39,
   "metadata": {},
   "outputs": [
    {
     "data": {
      "text/html": [
       "<div>\n",
       "<style scoped>\n",
       "    .dataframe tbody tr th:only-of-type {\n",
       "        vertical-align: middle;\n",
       "    }\n",
       "\n",
       "    .dataframe tbody tr th {\n",
       "        vertical-align: top;\n",
       "    }\n",
       "\n",
       "    .dataframe thead th {\n",
       "        text-align: right;\n",
       "    }\n",
       "</style>\n",
       "<table border=\"1\" class=\"dataframe\">\n",
       "  <thead>\n",
       "    <tr style=\"text-align: right;\">\n",
       "      <th></th>\n",
       "      <th>id</th>\n",
       "      <th>listing_url</th>\n",
       "      <th>scrape_id</th>\n",
       "      <th>last_scraped</th>\n",
       "      <th>name</th>\n",
       "      <th>summary</th>\n",
       "      <th>space</th>\n",
       "      <th>description</th>\n",
       "      <th>experiences_offered</th>\n",
       "      <th>neighborhood_overview</th>\n",
       "      <th>...</th>\n",
       "      <th>review_scores_communication</th>\n",
       "      <th>review_scores_location</th>\n",
       "      <th>review_scores_value</th>\n",
       "      <th>requires_license</th>\n",
       "      <th>instant_bookable</th>\n",
       "      <th>cancellation_policy</th>\n",
       "      <th>require_guest_profile_picture</th>\n",
       "      <th>require_guest_phone_verification</th>\n",
       "      <th>calculated_host_listings_count</th>\n",
       "      <th>reviews_per_month</th>\n",
       "    </tr>\n",
       "  </thead>\n",
       "  <tbody>\n",
       "  </tbody>\n",
       "</table>\n",
       "<p>0 rows × 91 columns</p>\n",
       "</div>"
      ],
      "text/plain": [
       "Empty DataFrame\n",
       "Columns: [id, listing_url, scrape_id, last_scraped, name, summary, space, description, experiences_offered, neighborhood_overview, notes, transit, access, interaction, house_rules, thumbnail_url, medium_url, picture_url, xl_picture_url, host_id, host_url, host_name, host_since, host_location, host_about, host_response_time, host_response_rate, host_acceptance_rate, host_is_superhost, host_thumbnail_url, host_picture_url, host_neighbourhood, host_listings_count, host_total_listings_count, host_verifications, host_has_profile_pic, host_identity_verified, street, neighbourhood, neighbourhood_cleansed, city, state, zipcode, market, smart_location, country_code, country, latitude, longitude, is_location_exact, property_type, room_type, accommodates, bathrooms, bedrooms, beds, bed_type, amenities, square_feet, price, weekly_price, monthly_price, security_deposit, cleaning_fee, guests_included, extra_people, minimum_nights, maximum_nights, calendar_updated, availability_30, availability_60, availability_90, availability_365, calendar_last_scraped, number_of_reviews, first_review, last_review, review_scores_rating, review_scores_accuracy, review_scores_cleanliness, review_scores_checkin, review_scores_communication, review_scores_location, review_scores_value, requires_license, instant_bookable, cancellation_policy, require_guest_profile_picture, require_guest_phone_verification, calculated_host_listings_count, reviews_per_month]\n",
       "Index: []\n",
       "\n",
       "[0 rows x 91 columns]"
      ]
     },
     "execution_count": 39,
     "metadata": {},
     "output_type": "execute_result"
    }
   ],
   "source": [
    "listing[listing.id == 4625517]"
   ]
  },
  {
   "cell_type": "code",
   "execution_count": 40,
   "metadata": {},
   "outputs": [
    {
     "data": {
      "text/html": [
       "<div>\n",
       "<style scoped>\n",
       "    .dataframe tbody tr th:only-of-type {\n",
       "        vertical-align: middle;\n",
       "    }\n",
       "\n",
       "    .dataframe tbody tr th {\n",
       "        vertical-align: top;\n",
       "    }\n",
       "\n",
       "    .dataframe thead th {\n",
       "        text-align: right;\n",
       "    }\n",
       "</style>\n",
       "<table border=\"1\" class=\"dataframe\">\n",
       "  <thead>\n",
       "    <tr style=\"text-align: right;\">\n",
       "      <th></th>\n",
       "      <th>id</th>\n",
       "      <th>listing_url</th>\n",
       "      <th>scrape_id</th>\n",
       "      <th>last_scraped</th>\n",
       "      <th>name</th>\n",
       "      <th>summary</th>\n",
       "      <th>space</th>\n",
       "      <th>description</th>\n",
       "      <th>experiences_offered</th>\n",
       "      <th>neighborhood_overview</th>\n",
       "      <th>...</th>\n",
       "      <th>review_scores_communication</th>\n",
       "      <th>review_scores_location</th>\n",
       "      <th>review_scores_value</th>\n",
       "      <th>requires_license</th>\n",
       "      <th>instant_bookable</th>\n",
       "      <th>cancellation_policy</th>\n",
       "      <th>require_guest_profile_picture</th>\n",
       "      <th>require_guest_phone_verification</th>\n",
       "      <th>calculated_host_listings_count</th>\n",
       "      <th>reviews_per_month</th>\n",
       "    </tr>\n",
       "  </thead>\n",
       "  <tbody>\n",
       "    <tr>\n",
       "      <th>2775</th>\n",
       "      <td>12971329</td>\n",
       "      <td>https://www.airbnb.com/rooms/12971329</td>\n",
       "      <td>20160906204935</td>\n",
       "      <td>2016-09-07</td>\n",
       "      <td>Cozy room in host's apt near train</td>\n",
       "      <td>Private room with queen bed, shelving galore, ...</td>\n",
       "      <td>0</td>\n",
       "      <td>Private room with queen bed, shelving galore, ...</td>\n",
       "      <td>none</td>\n",
       "      <td>0</td>\n",
       "      <td>...</td>\n",
       "      <td>10.0</td>\n",
       "      <td>10.0</td>\n",
       "      <td>10.0</td>\n",
       "      <td>f</td>\n",
       "      <td>f</td>\n",
       "      <td>strict</td>\n",
       "      <td>f</td>\n",
       "      <td>f</td>\n",
       "      <td>5</td>\n",
       "      <td>0.83</td>\n",
       "    </tr>\n",
       "    <tr>\n",
       "      <th>2823</th>\n",
       "      <td>8518091</td>\n",
       "      <td>https://www.airbnb.com/rooms/8518091</td>\n",
       "      <td>20160906204935</td>\n",
       "      <td>2016-09-07</td>\n",
       "      <td>Dot Spot</td>\n",
       "      <td>Our apartment is a quintessential Dorchester \"...</td>\n",
       "      <td>We have more living space than we need! Big ki...</td>\n",
       "      <td>Our apartment is a quintessential Dorchester \"...</td>\n",
       "      <td>none</td>\n",
       "      <td>0</td>\n",
       "      <td>...</td>\n",
       "      <td>9.0</td>\n",
       "      <td>9.0</td>\n",
       "      <td>9.0</td>\n",
       "      <td>f</td>\n",
       "      <td>f</td>\n",
       "      <td>flexible</td>\n",
       "      <td>f</td>\n",
       "      <td>f</td>\n",
       "      <td>1</td>\n",
       "      <td>1.19</td>\n",
       "    </tr>\n",
       "  </tbody>\n",
       "</table>\n",
       "<p>2 rows × 91 columns</p>\n",
       "</div>"
      ],
      "text/plain": [
       "            id                            listing_url       scrape_id  \\\n",
       "2775  12971329  https://www.airbnb.com/rooms/12971329  20160906204935   \n",
       "2823   8518091   https://www.airbnb.com/rooms/8518091  20160906204935   \n",
       "\n",
       "     last_scraped                                name  \\\n",
       "2775   2016-09-07  Cozy room in host's apt near train   \n",
       "2823   2016-09-07                            Dot Spot   \n",
       "\n",
       "                                                summary  \\\n",
       "2775  Private room with queen bed, shelving galore, ...   \n",
       "2823  Our apartment is a quintessential Dorchester \"...   \n",
       "\n",
       "                                                  space  \\\n",
       "2775                                                  0   \n",
       "2823  We have more living space than we need! Big ki...   \n",
       "\n",
       "                                            description experiences_offered  \\\n",
       "2775  Private room with queen bed, shelving galore, ...                none   \n",
       "2823  Our apartment is a quintessential Dorchester \"...                none   \n",
       "\n",
       "     neighborhood_overview  ... review_scores_communication  \\\n",
       "2775                     0  ...                        10.0   \n",
       "2823                     0  ...                         9.0   \n",
       "\n",
       "     review_scores_location review_scores_value requires_license  \\\n",
       "2775                   10.0                10.0                f   \n",
       "2823                    9.0                 9.0                f   \n",
       "\n",
       "     instant_bookable cancellation_policy require_guest_profile_picture  \\\n",
       "2775                f              strict                             f   \n",
       "2823                f            flexible                             f   \n",
       "\n",
       "     require_guest_phone_verification calculated_host_listings_count  \\\n",
       "2775                                f                              5   \n",
       "2823                                f                              1   \n",
       "\n",
       "      reviews_per_month  \n",
       "2775               0.83  \n",
       "2823               1.19  \n",
       "\n",
       "[2 rows x 91 columns]"
      ]
     },
     "execution_count": 40,
     "metadata": {},
     "output_type": "execute_result"
    }
   ],
   "source": [
    "listing.sample(2)"
   ]
  },
  {
   "cell_type": "markdown",
   "metadata": {},
   "source": [
    "# Exploratory Data Analysis\n",
    "\n",
    "### 1. What type of Cancellation Policy Host Prefer in terms of AirBnb Booking?\n"
   ]
  },
  {
   "cell_type": "code",
   "execution_count": 41,
   "metadata": {},
   "outputs": [
    {
     "data": {
      "text/plain": [
       "array(['moderate', 'flexible', 'strict', 'super_strict_30'], dtype=object)"
      ]
     },
     "execution_count": 41,
     "metadata": {},
     "output_type": "execute_result"
    }
   ],
   "source": [
    "listing.cancellation_policy.unique()"
   ]
  },
  {
   "cell_type": "code",
   "execution_count": 42,
   "metadata": {},
   "outputs": [
    {
     "data": {
      "text/plain": [
       "strict             1576\n",
       "flexible            994\n",
       "moderate            915\n",
       "super_strict_30      75\n",
       "Name: cancellation_policy, dtype: int64"
      ]
     },
     "execution_count": 42,
     "metadata": {},
     "output_type": "execute_result"
    }
   ],
   "source": [
    "listing.cancellation_policy.value_counts()"
   ]
  },
  {
   "cell_type": "code",
   "execution_count": 43,
   "metadata": {},
   "outputs": [
    {
     "data": {
      "text/plain": [
       "cancellation_policy\n",
       "flexible           149.274648\n",
       "moderate           162.928962\n",
       "strict             188.451777\n",
       "super_strict_30    335.240000\n",
       "Name: price, dtype: float64"
      ]
     },
     "execution_count": 43,
     "metadata": {},
     "output_type": "execute_result"
    }
   ],
   "source": [
    "cpp= listing.groupby('cancellation_policy')['price'].mean()\n",
    "cpp"
   ]
  },
  {
   "cell_type": "code",
   "execution_count": 44,
   "metadata": {},
   "outputs": [
    {
     "data": {
      "image/png": "[encoded data removed]",
      "text/plain": [
       "<Figure size 1080x1080 with 1 Axes>"
      ]
     },
     "metadata": {
      "needs_background": "light"
     },
     "output_type": "display_data"
    }
   ],
   "source": [
    "cpp.plot.bar(figsize=(15,15), color='#FF585D');\n",
    "plt.title('Cancellation Policy of Booking According to Price', fontsize=16);\n",
    "plt.xlabel('Cancellation Policy', fontsize=14);\n",
    "plt.ylabel('Average Price', fontsize=14);\n",
    "plt.xticks(rotation = 45);\n",
    "plt.tick_params(labelsize=14);"
   ]
  },
  {
   "cell_type": "markdown",
   "metadata": {},
   "source": [
    "#### Observation:\n",
    "According to the above plot there are three types of cancellation policy in AirBnb booking which are Flexible, Moderate, Strict and Super Strict 30 while the super <b>strict 30 price</b> is higher than other three."
   ]
  },
  {
   "cell_type": "markdown",
   "metadata": {},
   "source": [
    "### 2. Which areas are most and least Expenisve in Boston?\n"
   ]
  },
  {
   "cell_type": "code",
   "execution_count": 45,
   "metadata": {},
   "outputs": [],
   "source": [
    "# Fixing the city names to make them consistent for visualization.\n",
    "listing['city_clean'] = listing.city.copy()"
   ]
  },
  {
   "cell_type": "code",
   "execution_count": 46,
   "metadata": {},
   "outputs": [],
   "source": [
    "listing['city_clean'] = listing.city_clean.str.lower()\n",
    "listing['city_clean'] = listing.city_clean.str.title()"
   ]
  },
  {
   "cell_type": "code",
   "execution_count": 47,
   "metadata": {},
   "outputs": [
    {
     "data": {
      "text/plain": [
       "array(['Boston', 'Roslindale', 'Roslindale, Boston', 'Jamaica Plain',\n",
       "       'Brookline', 'Jamaica Plain, Boston', 'Jamaica Plain (Boston)',\n",
       "       'Roxbury Crossing', 'Jamaica Plain ', 'Jamaica Plain, Ma',\n",
       "       'Boston (Jamaica Plain)', 'Mission Hill, Boston',\n",
       "       'Boston, Massachusetts, Us', 'South End, Boston', 'Cambridge',\n",
       "       'East Boston', 'East Boston ', 'Charlestown',\n",
       "       'Boston (Charlestown)', 'Somerville', 'Watertown', 'Brighton',\n",
       "       'Brighton ', 'Boston ', nan, 'West Roxbury', 'Newton', 'Hyde Park',\n",
       "       'Mattapan', 'Milton', 'Dorchester', 'Dorchester, Boston ',\n",
       "       'South Boston', 'Allston'], dtype=object)"
      ]
     },
     "execution_count": 47,
     "metadata": {},
     "output_type": "execute_result"
    }
   ],
   "source": [
    "listing.city_clean.unique()"
   ]
  },
  {
   "cell_type": "code",
   "execution_count": 48,
   "metadata": {},
   "outputs": [],
   "source": [
    "# Roslindale, Boston, Jamaica Plain, Boston, Jamaica Plain (Boston),Jamaica Plain , Ma, Boston (Jamaica Plain), \n",
    "# Mission Hill, Boston, Boston, Massachusetts, Us, South End, Boston, Boston (Charlestown), Brighton , Dorchester, Boston \n",
    "\n",
    "listing['city_clean'] = listing.city_clean.replace('Roslindale, Boston', 'Roslindale')\n",
    "listing['city_clean'] = listing.city_clean.replace(['Jamaica Plain, Boston', 'Jamaica Plain (Boston)',\n",
    "                                                   'Jamaica Plain ', 'Jamaica Plain , Ma','Jamaica Plain, Ma','Boston (Jamaica Plain)'], \n",
    "                                                   'Jamaica Plain')\n",
    "listing['city_clean'] = listing.city_clean.replace('Mission Hill, Boston', 'Mission Hill')\n",
    "listing['city_clean'] = listing.city_clean.replace(['Boston, Massachusetts, Us', 'Boston '], 'Boston')\n",
    "listing['city_clean'] = listing.city_clean.replace('South End, Boston', 'South End')\n",
    "listing['city_clean'] = listing.city_clean.replace('Boston (Charlestown)', 'Charlestown')\n",
    "listing['city_clean'] = listing.city_clean.replace('Brighton ', 'Brighton')\n",
    "listing['city_clean'] = listing.city_clean.replace('Dorchester, Boston ', 'Dorchester')"
   ]
  },
  {
   "cell_type": "code",
   "execution_count": 49,
   "metadata": {},
   "outputs": [
    {
     "data": {
      "text/plain": [
       "array(['Boston', 'Roslindale', 'Jamaica Plain', 'Brookline',\n",
       "       'Roxbury Crossing', 'Mission Hill', 'South End', 'Cambridge',\n",
       "       'East Boston', 'East Boston ', 'Charlestown', 'Somerville',\n",
       "       'Watertown', 'Brighton', nan, 'West Roxbury', 'Newton',\n",
       "       'Hyde Park', 'Mattapan', 'Milton', 'Dorchester', 'South Boston',\n",
       "       'Allston'], dtype=object)"
      ]
     },
     "execution_count": 49,
     "metadata": {},
     "output_type": "execute_result"
    }
   ],
   "source": [
    "listing.city_clean.unique()"
   ]
  },
  {
   "cell_type": "code",
   "execution_count": 50,
   "metadata": {},
   "outputs": [
    {
     "data": {
      "text/plain": [
       "city_clean\n",
       "Milton               50.000000\n",
       "Watertown            60.000000\n",
       "Dorchester           75.600000\n",
       "Hyde Park            77.500000\n",
       "East Boston          80.000000\n",
       "Mission Hill         85.000000\n",
       "Mattapan             85.000000\n",
       "West Roxbury         85.600000\n",
       "Allston              86.357143\n",
       "Newton               90.000000\n",
       "Somerville           91.947368\n",
       "Roxbury Crossing     94.392857\n",
       "Roslindale           99.714286\n",
       "Brighton            107.250000\n",
       "South Boston        132.000000\n",
       "East Boston         134.666667\n",
       "Brookline           135.888889\n",
       "Jamaica Plain       155.769231\n",
       "Boston              176.730220\n",
       "Cambridge           199.375000\n",
       "Charlestown         258.625000\n",
       "South End           450.000000\n",
       "Name: price, dtype: float64"
      ]
     },
     "execution_count": 50,
     "metadata": {},
     "output_type": "execute_result"
    }
   ],
   "source": [
    "Expensive= listing.groupby('city_clean')['price'].mean().sort_values()\n",
    "Expensive"
   ]
  },
  {
   "cell_type": "code",
   "execution_count": 74,
   "metadata": {},
   "outputs": [
    {
     "data": {
      "image/png": "[encoded data removed]",
      "text/plain": [
       "<Figure size 1080x1080 with 1 Axes>"
      ]
     },
     "metadata": {
      "needs_background": "light"
     },
     "output_type": "display_data"
    }
   ],
   "source": [
    "Expensive.plot.bar(figsize=(15,15), color='#FF585D');\n",
    "plt.title('Most and Least Expensive Area in Boston', fontsize=16);\n",
    "plt.xlabel('Boston Area', fontsize=14);\n",
    "plt.ylabel('Average Price', fontsize=14);\n",
    "plt.xticks(rotation = 90);\n",
    "plt.tick_params(labelsize=14);\n",
    "plt.savefig('least_most.png')"
   ]
  },
  {
   "cell_type": "markdown",
   "metadata": {},
   "source": [
    "#### Observation:\n",
    "<b>Milton</b> is least expensive area while <b>South End</b> is most Expensive area for AirBnb stay."
   ]
  },
  {
   "cell_type": "markdown",
   "metadata": {},
   "source": [
    "### 3. What are the prices of Room types and Property types in Boston?"
   ]
  },
  {
   "cell_type": "code",
   "execution_count": 52,
   "metadata": {},
   "outputs": [
    {
     "data": {
      "text/plain": [
       "array(['Entire home/apt', 'Private room', 'Shared room'], dtype=object)"
      ]
     },
     "execution_count": 52,
     "metadata": {},
     "output_type": "execute_result"
    }
   ],
   "source": [
    "listing.room_type.unique()"
   ]
  },
  {
   "cell_type": "code",
   "execution_count": 53,
   "metadata": {},
   "outputs": [
    {
     "data": {
      "text/plain": [
       "room_type\n",
       "Entire home/apt    227.552295\n",
       "Private room        96.051170\n",
       "Shared room         93.493671\n",
       "Name: price, dtype: float64"
      ]
     },
     "execution_count": 53,
     "metadata": {},
     "output_type": "execute_result"
    }
   ],
   "source": [
    "rtp = listing.groupby('room_type')['price'].mean()\n",
    "rtp"
   ]
  },
  {
   "cell_type": "code",
   "execution_count": 54,
   "metadata": {},
   "outputs": [
    {
     "data": {
      "image/png": "[encoded data removed]",
      "text/plain": [
       "<Figure size 1080x1080 with 1 Axes>"
      ]
     },
     "metadata": {},
     "output_type": "display_data"
    }
   ],
   "source": [
    "rtp.plot.pie(figsize=(15,15), autopct = '%.2f', fontsize=16, cmap = 'OrRd');\n",
    "plt.title('Room Type Prices in Boston', fontsize=16);\n",
    "plt.xlabel('Room Type Distribution Pie Chart', fontsize=14);\n",
    "plt.ylabel('');"
   ]
  },
  {
   "cell_type": "code",
   "execution_count": 75,
   "metadata": {},
   "outputs": [
    {
     "data": {
      "image/png": "[encoded data removed]",
      "text/plain": [
       "<Figure size 1080x1080 with 1 Axes>"
      ]
     },
     "metadata": {
      "needs_background": "light"
     },
     "output_type": "display_data"
    }
   ],
   "source": [
    "rtp.plot.bar(figsize=(15,15), color='#FF585D');\n",
    "plt.title('Room Type Prices in Boston', fontsize=16);\n",
    "plt.xlabel('Room Type', fontsize=14);\n",
    "plt.ylabel('Average Price', fontsize=14);\n",
    "plt.xticks(rotation = 0);\n",
    "plt.tick_params(labelsize=14);\n",
    "plt.savefig('room_type_prices.png')"
   ]
  },
  {
   "cell_type": "code",
   "execution_count": 56,
   "metadata": {},
   "outputs": [
    {
     "data": {
      "text/plain": [
       "array(['House', 'Apartment', 'Condominium', 'Villa', 'Bed & Breakfast',\n",
       "       'Townhouse', 'Entire Floor', 'Loft', 'Guesthouse', 'Boat', 'Dorm',\n",
       "       'Other', 0, 'Camper/RV'], dtype=object)"
      ]
     },
     "execution_count": 56,
     "metadata": {},
     "output_type": "execute_result"
    }
   ],
   "source": [
    "listing.property_type.unique()"
   ]
  },
  {
   "cell_type": "code",
   "execution_count": 57,
   "metadata": {},
   "outputs": [],
   "source": [
    "ptp = listing[listing.property_type != 0]"
   ]
  },
  {
   "cell_type": "code",
   "execution_count": 58,
   "metadata": {},
   "outputs": [
    {
     "data": {
      "text/plain": [
       "property_type\n",
       "Apartment          181.895954\n",
       "Bed & Breakfast    131.000000\n",
       "Boat               268.833333\n",
       "Camper/RV           60.000000\n",
       "Condominium        190.246753\n",
       "Dorm                62.500000\n",
       "Entire Floor       122.000000\n",
       "Guesthouse         289.000000\n",
       "House              132.210432\n",
       "Loft               185.410256\n",
       "Other              229.941176\n",
       "Townhouse          149.037037\n",
       "Villa              189.500000\n",
       "Name: price, dtype: float64"
      ]
     },
     "execution_count": 58,
     "metadata": {},
     "output_type": "execute_result"
    }
   ],
   "source": [
    "pt_p = ptp.groupby('property_type')['price'].mean()\n",
    "pt_p"
   ]
  },
  {
   "cell_type": "code",
   "execution_count": 76,
   "metadata": {},
   "outputs": [
    {
     "data": {
      "image/png": "[encoded data removed]",
      "text/plain": [
       "<Figure size 1080x1080 with 1 Axes>"
      ]
     },
     "metadata": {
      "needs_background": "light"
     },
     "output_type": "display_data"
    }
   ],
   "source": [
    "pt_p.plot.bar(figsize=(15,15), color='#FF585D');\n",
    "plt.title('Property Type Prices in Boston', fontsize=16);\n",
    "plt.xlabel('Property Type', fontsize=14);\n",
    "plt.ylabel('Average Price', fontsize=14);\n",
    "plt.xticks(rotation = 60);\n",
    "plt.tick_params(labelsize=14);\n",
    "plt.savefig('property_type_prices.png')"
   ]
  },
  {
   "cell_type": "code",
   "execution_count": 60,
   "metadata": {},
   "outputs": [
    {
     "data": {
      "image/png": "[encoded data removed]",
      "text/plain": [
       "<Figure size 1080x1080 with 1 Axes>"
      ]
     },
     "metadata": {
      "needs_background": "light"
     },
     "output_type": "display_data"
    }
   ],
   "source": [
    "plt.figure(figsize=(15,15));\n",
    "sns.barplot(data = ptp, x = 'property_type', y = 'price', color='#FF585D');"
   ]
  },
  {
   "cell_type": "markdown",
   "metadata": {},
   "source": [
    "#### Observation:\n",
    "1. According to the above plots Entire home/Apartment price is higher than private room and shared room in terms of room types.\n",
    "2. For Property types Guesthouse is more expensive than all other property types."
   ]
  },
  {
   "cell_type": "markdown",
   "metadata": {},
   "source": [
    "### 4. In which Property type People stay Maximum and Minimum?"
   ]
  },
  {
   "cell_type": "code",
   "execution_count": 61,
   "metadata": {},
   "outputs": [
    {
     "data": {
      "text/plain": [
       "property_type\n",
       "Apartment          39381.166474\n",
       "Bed & Breakfast      727.256410\n",
       "Boat                 876.833333\n",
       "Camper/RV           1125.000000\n",
       "Condominium          804.792208\n",
       "Dorm                1125.000000\n",
       "Entire Floor         866.250000\n",
       "Guesthouse          1125.000000\n",
       "House                799.758993\n",
       "Loft                 797.948718\n",
       "Other                539.882353\n",
       "Townhouse            869.907407\n",
       "Villa                752.333333\n",
       "Name: maximum_nights, dtype: float64"
      ]
     },
     "execution_count": 61,
     "metadata": {},
     "output_type": "execute_result"
    }
   ],
   "source": [
    "max_nights = ptp.groupby('property_type')['maximum_nights'].mean()\n",
    "max_nights"
   ]
  },
  {
   "cell_type": "code",
   "execution_count": 62,
   "metadata": {},
   "outputs": [
    {
     "data": {
      "text/plain": [
       "property_type\n",
       "Apartment          3.219653\n",
       "Bed & Breakfast    9.461538\n",
       "Boat               1.750000\n",
       "Camper/RV          1.000000\n",
       "Condominium        2.982684\n",
       "Dorm               1.000000\n",
       "Entire Floor       1.250000\n",
       "Guesthouse         3.000000\n",
       "House              2.937050\n",
       "Loft               1.974359\n",
       "Other              2.352941\n",
       "Townhouse          1.925926\n",
       "Villa              2.500000\n",
       "Name: minimum_nights, dtype: float64"
      ]
     },
     "execution_count": 62,
     "metadata": {},
     "output_type": "execute_result"
    }
   ],
   "source": [
    "min_nights = ptp.groupby('property_type')['minimum_nights'].mean()\n",
    "min_nights"
   ]
  },
  {
   "cell_type": "code",
   "execution_count": 77,
   "metadata": {},
   "outputs": [
    {
     "data": {
      "image/png": "[encoded data removed]",
      "text/plain": [
       "<Figure size 1080x1080 with 1 Axes>"
      ]
     },
     "metadata": {
      "needs_background": "light"
     },
     "output_type": "display_data"
    }
   ],
   "source": [
    "max_nights.plot.bar(figsize=(15,15), color='#FF585D');\n",
    "plt.title('Maximum Night Stay in Boston using AirBnb', fontsize=16);\n",
    "plt.xlabel('Property Type', fontsize=14);\n",
    "plt.ylabel('Average of Maximum Night Stay', fontsize=14);\n",
    "plt.xticks(rotation = 60);\n",
    "plt.tick_params(labelsize=14);\n",
    "plt.savefig('max_night.png')"
   ]
  },
  {
   "cell_type": "code",
   "execution_count": 78,
   "metadata": {},
   "outputs": [
    {
     "data": {
      "image/png": "[encoded data removed]",
      "text/plain": [
       "<Figure size 1080x1080 with 1 Axes>"
      ]
     },
     "metadata": {
      "needs_background": "light"
     },
     "output_type": "display_data"
    }
   ],
   "source": [
    "min_nights.plot.bar(figsize=(15,15), color='#FF585D');\n",
    "plt.title('Minimum Night Stay in Boston using AirBnb', fontsize=16);\n",
    "plt.xlabel('Property Type', fontsize=14);\n",
    "plt.ylabel('Average of Minimum Night Stay', fontsize=14);\n",
    "plt.xticks(rotation = 60);\n",
    "plt.tick_params(labelsize=14);\n",
    "plt.savefig('min_night.png')"
   ]
  },
  {
   "cell_type": "markdown",
   "metadata": {},
   "source": [
    "#### Observation:\n",
    "1. Most of the people/visitor prefer to stay for maximum nights in Apartments then in Camper and Guesthouse.\n",
    "2. Most of the visitors prefer to use AirBnb just for bed and breakfast for minimum time of stay after that comes the\n",
    "   GuestHouse and Condominium."
   ]
  },
  {
   "cell_type": "markdown",
   "metadata": {},
   "source": [
    "### 5. Which types of Property requires Minimum and Maximum Securtiy Deposit fee?"
   ]
  },
  {
   "cell_type": "code",
   "execution_count": 65,
   "metadata": {},
   "outputs": [],
   "source": [
    "sdp = ptp[ptp.security_deposit != 0]"
   ]
  },
  {
   "cell_type": "code",
   "execution_count": 66,
   "metadata": {},
   "outputs": [
    {
     "data": {
      "text/plain": [
       "property_type\n",
       "Apartment          324.437037\n",
       "Bed & Breakfast    350.000000\n",
       "Boat               412.500000\n",
       "Camper/RV          500.000000\n",
       "Condominium        351.227642\n",
       "Guesthouse         500.000000\n",
       "House              310.221154\n",
       "Loft               297.222222\n",
       "Other              200.000000\n",
       "Townhouse          325.000000\n",
       "Name: security_deposit, dtype: float64"
      ]
     },
     "execution_count": 66,
     "metadata": {},
     "output_type": "execute_result"
    }
   ],
   "source": [
    "sd_p = sdp.groupby('property_type')['security_deposit'].mean()\n",
    "sd_p"
   ]
  },
  {
   "cell_type": "code",
   "execution_count": 67,
   "metadata": {},
   "outputs": [
    {
     "data": {
      "image/png": "[encoded data removed]",
      "text/plain": [
       "<Figure size 1080x1080 with 1 Axes>"
      ]
     },
     "metadata": {
      "needs_background": "light"
     },
     "output_type": "display_data"
    }
   ],
   "source": [
    "plt.figure(figsize=(15,15));\n",
    "sns.barplot(data = sdp, x = 'security_deposit', y = 'property_type', color='#FF585D');"
   ]
  },
  {
   "cell_type": "code",
   "execution_count": 79,
   "metadata": {},
   "outputs": [
    {
     "data": {
      "image/png": "[encoded data removed]",
      "text/plain": [
       "<Figure size 1080x1080 with 1 Axes>"
      ]
     },
     "metadata": {
      "needs_background": "light"
     },
     "output_type": "display_data"
    }
   ],
   "source": [
    "sd_p.plot.bar(figsize=(15,15), color='#FF585D');\n",
    "plt.title('AirBnb Securtiy Deposit Booking Fee', fontsize=16);\n",
    "plt.xlabel('Property Type', fontsize=14);\n",
    "plt.ylabel('Security Deposit', fontsize=14);\n",
    "plt.xticks(rotation = 60);\n",
    "plt.tick_params(labelsize=14);\n",
    "plt.savefig('security_deposit.png')"
   ]
  },
  {
   "cell_type": "markdown",
   "metadata": {},
   "source": [
    "#### Observation:\n",
    "According to the above plots it is confirmed that <b>Guesthouse</b> and <b>Camper/RV</b> mostly requires same amount of security desposit fee then comes <b>Boat</b> and <b>Condominium</b>."
   ]
  },
  {
   "cell_type": "markdown",
   "metadata": {},
   "source": [
    "#### Saving Master Clean CSV file"
   ]
  },
  {
   "cell_type": "code",
   "execution_count": 69,
   "metadata": {},
   "outputs": [],
   "source": [
    "sdp.to_csv('listings_clean_master.csv', encoding='utf-8', index = False)"
   ]
  },
  {
   "cell_type": "markdown",
   "metadata": {},
   "source": [
    "# Conclusion\n",
    "1. According to the above plot there are three types of cancellation policy in AirBnb booking which are Flexible, Moderate,    Strict and Super Strict 30 while the super <b>strict 30 price</b> is higher than other three.\n",
    "2. <b>Milton</b> is least expensive area while <b>South End</b> is most Expensive area for AirBnb stay.\n",
    "3. According to the above plots Entire home/Apartment price is higher than private room and shared room in terms of room      types.\n",
    "4. For Property types Guesthouse is more expensive than all other property types.\n",
    "5. Most of the people/visitor prefer to stay for maximum nights in Apartments then in Camper and Guesthouse.\n",
    "6. Most of the visitors prefer to use AirBnb just for bed and breakfast for minimum time of stay after that comes the\n",
    "   GuestHouse and Condominium.\n",
    "7. it is confirmed that <b>Guesthouse</b> and <b>Camper/RV</b> mostly requires same amount of security desposit fee then      comes <b>Boat</b> and <b>Condominium</b>."
   ]
  },
  {
   "cell_type": "code",
   "execution_count": null,
   "metadata": {},
   "outputs": [],
   "source": []
  }
 ],
 "metadata": {
  "kernelspec": {
   "display_name": "Python 3",
   "language": "python",
   "name": "python3"
  },
  "language_info": {
   "codemirror_mode": {
    "name": "ipython",
    "version": 3
   },
   "file_extension": ".py",
   "mimetype": "text/x-python",
   "name": "python",
   "nbconvert_exporter": "python",
   "pygments_lexer": "ipython3",
   "version": "3.7.6"
  }
 },
 "nbformat": 4,
 "nbformat_minor": 4
}
