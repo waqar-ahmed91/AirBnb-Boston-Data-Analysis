{
 "cells": [
  {
   "cell_type": "markdown",
   "metadata": {},
   "source": [
    "## <center> Airbnb Data Analysis and Visualization — Make a choice on Airbnb while visiting Boston</center>"
   ]
  },
  {
   "cell_type": "markdown",
   "metadata": {},
   "source": [
    "![title](boston.jpg)"
   ]
  },
  {
   "cell_type": "markdown",
   "metadata": {},
   "source": [
    "### Disclaimer:\n",
    "\n",
    "The observations and views presented in this blog is my own opinion that is based on data analysis with respect to the Airbnb Boston dataset which is available on Kaggle website (https://www.kaggle.com/airbnb/boston) and it is a part of Udacity Nanodegree program project.\n",
    "\n",
    "The analysis and visualization of the data is based on following <b>Business Requirements</b>:\n",
    "\n",
    "1. What type of Cancellation Policy Host Prefer in terms of Airbnb Booking?\n",
    "2. Which areas are most and least Expensive in Boston?\n",
    "3. What are the prices of Room types and Property types in Boston?\n",
    "4. In which Property type People stay Maximum and Minimum?\n",
    "5. Which types of Property requires Minimum and Maximum Security Deposit fee?\n",
    "6. What type of Cancellation Policy Host Prefer in terms of Airbnb Booking?"
   ]
  },
  {
   "cell_type": "markdown",
   "metadata": {},
   "source": [
    "### What type of Cancellation Policy Host Prefer in terms of Airbnb Booking?"
   ]
  },
  {
   "cell_type": "markdown",
   "metadata": {},
   "source": [
    "![title](cancellation_policy.png)\n",
    "\n",
    "According to the Airbnb dataset there are four types of cancellation policies which are:\n",
    "1. Flexible\n",
    "2. Moderate\n",
    "3. Strict and\n",
    "4. Super Strict 30\n",
    "\n",
    "The price of super strict 30 cancellation policy is much higher than other three cancellation policies.\n",
    "\n",
    "As mentioned on Airbnb website:\n",
    "![title](super_strict_30.png)"
   ]
  },
  {
   "cell_type": "markdown",
   "metadata": {},
   "source": [
    "### Which areas are most and least Expensive in Boston?\n",
    "![title](least_most.png)\n",
    "\n",
    "The most expensive area in Boston for staying using Airbnb services is <b>South End</b> while the least expensive is <b>Milton</b>."
   ]
  },
  {
   "cell_type": "markdown",
   "metadata": {},
   "source": [
    "### What are the prices of Room types and Property types in Boston?\n",
    "![title](room_type_prices.png)\n",
    "\n",
    "According to the above plot Home/Apartment price is more than Private room and Shared room while the average price of <b>Entire Home/Apartment</b> is approximately <b>227.55 USD</b>.\n",
    "\n",
    "![title](property_type_prices.png)\n",
    "\n",
    "According to Property type <b>Guesthouse</b> is leading in Boston with average price of approximately <b>290 USD</b>."
   ]
  },
  {
   "cell_type": "markdown",
   "metadata": {},
   "source": [
    "### In which Property type People stay Maximum and Minimum?\n",
    "![title](max_night.png)\n",
    "\n",
    "Most of the guests/visitors to Boston prefer to stay in <b>Apartment</b> for a longer time period and the above plot shows that the people who came to Boston stayed mostly in Apartment.\n",
    "\n",
    "![title](min_night.png)\n",
    "\n",
    "For minimum night stay visitors most likely prefer just a Bed & Breakfast type of property. This shows that the minimum staying people are visitors/roamers that use Airbnb services just for a sleep and doing breakfast.\n"
   ]
  },
  {
   "cell_type": "markdown",
   "metadata": {},
   "source": [
    "### Which types of Property requires Minimum and Maximum Security Deposit fee?\n",
    "![title](security_deposit.png)\n",
    "\n",
    "As usual most of the services comes with a security deposit fee so Airbnb also charge a security deposit fee from the users just in case of compensating the mishap in the property.\n",
    "\n",
    "According to the analysis of the data, the security deposit fee of <b>Guesthouse</b> and <b>Camper/RV</b> is approximately equal that is <b>500 USD</b> and higher than all other properties security deposit fee."
   ]
  },
  {
   "cell_type": "markdown",
   "metadata": {},
   "source": [
    "In Summary:\n",
    "    \n",
    "1. According to the above plot there are four types of cancellation policy in Airbnb booking which are Flexible, Moderate, Strict and Super Strict 30 while the super strict 30 price is higher than other three.\n",
    "2. Milton is least expensive area while South End is most Expensive area for Airbnb stay.\n",
    "3. According to the above plots Entire home/Apartment price is higher than private room and shared room in terms of room types.\n",
    "4. For Property types Guesthouse is more expensive than all other property types.\n",
    "5. Most of the people/visitor prefer to stay for maximum nights in Apartment then in Camper and Guesthouse.\n",
    "6. Most of the visitors prefer to use Airbnb just for bed and breakfast for minimum time of stay after that comes the Guesthouse and Condominium.\n",
    "7. it is confirmed that Guesthouse and Camper/RV mostly requires same amount of security deposit fee then comes Boat and Condominium.\n",
    "\n",
    "The full GitHub repository is available <a href= \"https://github.com/waqar-ahmed91/AirBnb-Boston-Data-Analysis\">here</a>."
   ]
  },
  {
   "cell_type": "code",
   "execution_count": null,
   "metadata": {},
   "outputs": [],
   "source": []
  }
 ],
 "metadata": {
  "kernelspec": {
   "display_name": "Python 3",
   "language": "python",
   "name": "python3"
  },
  "language_info": {
   "codemirror_mode": {
    "name": "ipython",
    "version": 3
   },
   "file_extension": ".py",
   "mimetype": "text/x-python",
   "name": "python",
   "nbconvert_exporter": "python",
   "pygments_lexer": "ipython3",
   "version": "3.7.6"
  }
 },
 "nbformat": 4,
 "nbformat_minor": 4
}
